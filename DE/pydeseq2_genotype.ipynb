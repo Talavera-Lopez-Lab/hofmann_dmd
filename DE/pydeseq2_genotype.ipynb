{
 "cells": [
  {
   "cell_type": "markdown",
   "metadata": {},
   "source": [
    "# Notebook to run Differential Gene Expression analysis across Genotypes using `PyDESeq2`\n",
    "\n",
    "**Developed by** : **Srivalli Kolla**\n",
    "\n",
    "**Created on** : 15 July, 2024\n",
    "\n",
    "**Last modififed on** : 15 July, 2024\n",
    "\n",
    "**Würzburg Institute for Systems Immunology & Julius-Maximilian-Universität Würzburg**\n"
   ]
  },
  {
   "cell_type": "markdown",
   "metadata": {},
   "source": [
    "# Importing packages"
   ]
  },
  {
   "cell_type": "code",
   "execution_count": 1,
   "metadata": {},
   "outputs": [],
   "source": [
    "import scanpy as sc\n",
    "import pandas as pd\n",
    "import numpy as np\n",
    "import time\n",
    "\n",
    "from pydeseq2.dds import DeseqDataSet\n",
    "from pydeseq2.ds import DeseqStats\n",
    "from anndata import AnnData"
   ]
  },
  {
   "cell_type": "code",
   "execution_count": 2,
   "metadata": {},
   "outputs": [
    {
     "name": "stdout",
     "output_type": "stream",
     "text": [
      "-----\n",
      "anndata     0.10.8\n",
      "scanpy      1.10.2\n",
      "-----\n",
      "PIL                 10.3.0\n",
      "asttokens           NA\n",
      "colorama            0.4.6\n",
      "comm                0.2.2\n",
      "cycler              0.12.1\n",
      "cython_runtime      NA\n",
      "dateutil            2.9.0.post0\n",
      "debugpy             1.8.2\n",
      "decorator           5.1.1\n",
      "django              5.0.6\n",
      "executing           2.0.1\n",
      "h5py                3.11.0\n",
      "ipykernel           6.29.5\n",
      "jedi                0.19.1\n",
      "joblib              1.4.2\n",
      "kiwisolver          1.4.5\n",
      "legacy_api_wrap     NA\n",
      "llvmlite            0.43.0\n",
      "matplotlib          3.9.1\n",
      "mpl_toolkits        NA\n",
      "natsort             8.4.0\n",
      "numba               0.60.0\n",
      "numpy               1.26.4\n",
      "packaging           24.1\n",
      "pandas              2.2.2\n",
      "parso               0.8.4\n",
      "pickleshare         0.7.5\n",
      "platformdirs        4.2.2\n",
      "prompt_toolkit      3.0.47\n",
      "psutil              6.0.0\n",
      "pure_eval           0.2.2\n",
      "pydeseq2            0.4.10\n",
      "pydev_ipython       NA\n",
      "pydevconsole        NA\n",
      "pydevd              2.9.5\n",
      "pydevd_file_utils   NA\n",
      "pydevd_plugins      NA\n",
      "pydevd_tracing      NA\n",
      "pygments            2.18.0\n",
      "pyparsing           3.1.2\n",
      "pytz                2024.1\n",
      "scipy               1.14.0\n",
      "session_info        1.0.0\n",
      "six                 1.16.0\n",
      "sklearn             1.5.1\n",
      "stack_data          0.6.3\n",
      "threadpoolctl       3.5.0\n",
      "tornado             6.4.1\n",
      "traitlets           5.14.3\n",
      "wcwidth             0.2.13\n",
      "zmq                 26.0.3\n",
      "-----\n",
      "IPython             8.26.0\n",
      "jupyter_client      8.6.2\n",
      "jupyter_core        5.7.2\n",
      "-----\n",
      "Python 3.12.4 | packaged by conda-forge | (main, Jun 17 2024, 10:23:07) [GCC 12.3.0]\n",
      "Linux-6.9.7-100.fc39.x86_64-x86_64-with-glibc2.38\n",
      "-----\n",
      "Session information updated at 2024-07-17 14:51\n"
     ]
    }
   ],
   "source": [
    "sc.settings.verbosity = 3\n",
    "sc.logging.print_versions()\n",
    "sc.settings.set_figure_params(dpi = 180, color_map = 'magma', dpi_save = 300, vector_friendly = True, format = 'svg')\n",
    "timestamp = time.strftime(\"%d_%m_%Y\")"
   ]
  },
  {
   "cell_type": "markdown",
   "metadata": {},
   "source": [
    "# Data import"
   ]
  },
  {
   "cell_type": "code",
   "execution_count": 3,
   "metadata": {},
   "outputs": [],
   "source": [
    "inputs = '../data/'"
   ]
  },
  {
   "cell_type": "code",
   "execution_count": 4,
   "metadata": {},
   "outputs": [
    {
     "name": "stdout",
     "output_type": "stream",
     "text": [
      "AnnData object with n_obs × n_vars = 16196 × 16060\n",
      "    obs: 'cell_source', 'cell_type', 'donor', 'cell_states', 'genotype', 'compartment', 'object', 'samples', 'n_counts'\n",
      "    var: 'gene_ids-CMC'\n",
      "    uns: 'log1p'\n",
      "AnnData object with n_obs × n_vars = 29502 × 16060\n",
      "    obs: 'cell_source', 'cell_type', 'donor', 'cell_states', 'genotype', 'compartment', 'object', 'samples', 'n_counts'\n",
      "    var: 'gene_ids-CMC'\n",
      "    uns: 'log1p'\n",
      "AnnData object with n_obs × n_vars = 69819 × 16060\n",
      "    obs: 'cell_source', 'cell_type', 'donor', 'cell_states', 'genotype', 'compartment', 'object', 'samples', 'n_counts'\n",
      "    var: 'gene_ids-CMC'\n",
      "    uns: 'log1p'\n"
     ]
    }
   ],
   "source": [
    "file1 = inputs + \"DMD-Mdx_CMC-Immune_ctl240711.log.h5ad\"\n",
    "file2 = inputs + \"DMD-MdxSCID_CMC-Immune_ctl240711.log.h5ad\"\n",
    "file3 = inputs +\"DMD-WT_CMC-Immune_ctl240711.log.h5ad\"\n",
    "\n",
    "adata1 = sc.read_h5ad(file1)\n",
    "adata2 = sc.read_h5ad(file2)\n",
    "adata3 = sc.read_h5ad(file3)\n",
    "\n",
    "# Inspect the structure of the data\n",
    "print(adata1)\n",
    "print(adata2)\n",
    "print(adata3)"
   ]
  },
  {
   "cell_type": "markdown",
   "metadata": {},
   "source": [
    "## Data concatenation"
   ]
  },
  {
   "cell_type": "code",
   "execution_count": 5,
   "metadata": {},
   "outputs": [
    {
     "data": {
      "text/plain": [
       "AnnData object with n_obs × n_vars = 115517 × 16060\n",
       "    obs: 'cell_source', 'cell_type', 'donor', 'cell_states', 'genotype', 'compartment', 'object', 'samples', 'n_counts', 'batch'\n",
       "    var: 'gene_ids-CMC'"
      ]
     },
     "execution_count": 5,
     "metadata": {},
     "output_type": "execute_result"
    }
   ],
   "source": [
    "adata_combined = adata1.concatenate(adata2, adata3)\n",
    "\n",
    "adata_combined = AnnData(adata_combined)\n",
    "adata_combined"
   ]
  },
  {
   "cell_type": "code",
   "execution_count": 6,
   "metadata": {},
   "outputs": [
    {
     "data": {
      "text/plain": [
       "cell_states\n",
       "CD4Tnaive        26482\n",
       "NK               11156\n",
       "CD8Tnaive        10600\n",
       "MHCII+MØtr        8702\n",
       "NØ                6975\n",
       "MØinf             6756\n",
       "Ly6CloMo          6212\n",
       "CD4Th             4856\n",
       "TLF+MØ            4683\n",
       "CD8Tctl           2880\n",
       "vCM2              2869\n",
       "Isg15+MØ          2845\n",
       "vCM1              2733\n",
       "vCM4              2548\n",
       "B_cells           2087\n",
       "B_naive           1703\n",
       "Ly6ChiMo          1691\n",
       "CD8Tcm            1584\n",
       "DC2               1394\n",
       "Mast              1376\n",
       "T                 1149\n",
       "CD8Temra          1048\n",
       "Ccr2+MHCII+MØ      949\n",
       "B_mem              751\n",
       "gdT                385\n",
       "Treg               363\n",
       "CD4Tctl            280\n",
       "ILC                195\n",
       "vCM3               107\n",
       "DC                 105\n",
       "Spp1+Gpnmb+MØ       28\n",
       "CD8Tem              15\n",
       "Plasma_cells         9\n",
       "MAIT                 1\n",
       "Name: count, dtype: int64"
      ]
     },
     "execution_count": 6,
     "metadata": {},
     "output_type": "execute_result"
    }
   ],
   "source": [
    "adata_combined.obs['cell_states'].value_counts()"
   ]
  },
  {
   "cell_type": "markdown",
   "metadata": {},
   "source": [
    "## Raw counts checking"
   ]
  },
  {
   "cell_type": "code",
   "execution_count": 7,
   "metadata": {},
   "outputs": [
    {
     "name": "stdout",
     "output_type": "stream",
     "text": [
      "Is X raw? False\n"
     ]
    }
   ],
   "source": [
    "def X_is_raw(adata_combined):\n",
    "    return np.array_equal(adata_combined.X.sum(axis=0).astype(int), adata_combined.X.sum(axis=0))\n",
    "\n",
    "is_raw = X_is_raw(adata_combined)\n",
    "print(f\"Is X raw? {is_raw}\")"
   ]
  },
  {
   "cell_type": "code",
   "execution_count": 8,
   "metadata": {},
   "outputs": [],
   "source": [
    "adata_combined.X = adata_combined.X.astype(int)"
   ]
  },
  {
   "cell_type": "code",
   "execution_count": 9,
   "metadata": {},
   "outputs": [
    {
     "name": "stdout",
     "output_type": "stream",
     "text": [
      "Is X raw? True\n"
     ]
    }
   ],
   "source": [
    "is_raw = X_is_raw(adata_combined)\n",
    "print(f\"Is X raw? {is_raw}\")"
   ]
  },
  {
   "cell_type": "code",
   "execution_count": 10,
   "metadata": {},
   "outputs": [],
   "source": [
    "adata_combined.write_h5ad(inputs + f'concatenated_CMC-{timestamp}.h5ad')"
   ]
  },
  {
   "cell_type": "markdown",
   "metadata": {},
   "source": [
    "## Data preparation"
   ]
  },
  {
   "cell_type": "code",
   "execution_count": 11,
   "metadata": {},
   "outputs": [],
   "source": [
    "counts_df = adata_combined.X.toarray()\n",
    "\n",
    "metadata = adata_combined.obs\n",
    "metadata_df = pd.DataFrame(metadata)\n",
    "metadata_df[\"genotype\"] = metadata_df[\"genotype\"].astype('category')"
   ]
  },
  {
   "cell_type": "markdown",
   "metadata": {},
   "source": [
    "# PyDESeq2 analysis"
   ]
  },
  {
   "cell_type": "markdown",
   "metadata": {},
   "source": [
    "## Data preparation"
   ]
  },
  {
   "cell_type": "code",
   "execution_count": 12,
   "metadata": {},
   "outputs": [],
   "source": [
    "# Prepare the DESeq2 dataset\n",
    "dds = DeseqDataSet(\n",
    "    counts=counts_df,\n",
    "    metadata=metadata_df,\n",
    "    design_factors=[\"genotype\"],\n",
    "    n_cpus = 16\n",
    ")"
   ]
  },
  {
   "cell_type": "markdown",
   "metadata": {},
   "source": [
    "## Differential expression analysis"
   ]
  },
  {
   "cell_type": "code",
   "execution_count": 13,
   "metadata": {},
   "outputs": [
    {
     "name": "stderr",
     "output_type": "stream",
     "text": [
      "Fitting size factors...\n",
      "/home/skolla/miniforge3/envs/pydeseq2/lib/python3.12/site-packages/pydeseq2/dds.py:483: UserWarning: Every gene contains at least one zero, cannot compute log geometric means. Switching to iterative mode.\n",
      "  self.fit_size_factors()\n",
      "Fitting dispersions...\n",
      "/home/skolla/miniforge3/envs/pydeseq2/lib/python3.12/site-packages/joblib/externals/loky/process_executor.py:752: UserWarning: A worker stopped while some jobs were given to the executor. This can be caused by a too short worker timeout or by a memory leak.\n",
      "  warnings.warn(\n",
      "... done in 77.23 seconds.\n",
      "\n",
      "Fitting MAP dispersions...\n",
      "... done in 72.09 seconds.\n",
      "\n"
     ]
    },
    {
     "ename": "KeyboardInterrupt",
     "evalue": "",
     "output_type": "error",
     "traceback": [
      "\u001b[0;31m---------------------------------------------------------------------------\u001b[0m",
      "\u001b[0;31mKeyboardInterrupt\u001b[0m                         Traceback (most recent call last)",
      "Cell \u001b[0;32mIn[13], line 1\u001b[0m\n\u001b[0;32m----> 1\u001b[0m \u001b[43mdds\u001b[49m\u001b[38;5;241;43m.\u001b[39;49m\u001b[43mdeseq2\u001b[49m\u001b[43m(\u001b[49m\u001b[43m)\u001b[49m\n",
      "File \u001b[0;32m~/miniforge3/envs/pydeseq2/lib/python3.12/site-packages/pydeseq2/dds.py:483\u001b[0m, in \u001b[0;36mDeseqDataSet.deseq2\u001b[0;34m(self, fit_type)\u001b[0m\n\u001b[1;32m    480\u001b[0m     \u001b[38;5;28mprint\u001b[39m(\u001b[38;5;124mf\u001b[39m\u001b[38;5;124m\"\u001b[39m\u001b[38;5;124mUsing \u001b[39m\u001b[38;5;132;01m{\u001b[39;00m\u001b[38;5;28mself\u001b[39m\u001b[38;5;241m.\u001b[39mfit_type\u001b[38;5;132;01m}\u001b[39;00m\u001b[38;5;124m fit type.\u001b[39m\u001b[38;5;124m\"\u001b[39m)\n\u001b[1;32m    482\u001b[0m \u001b[38;5;66;03m# Compute DESeq2 normalization factors using the Median-of-ratios method\u001b[39;00m\n\u001b[0;32m--> 483\u001b[0m \u001b[38;5;28;43mself\u001b[39;49m\u001b[38;5;241;43m.\u001b[39;49m\u001b[43mfit_size_factors\u001b[49m\u001b[43m(\u001b[49m\u001b[43m)\u001b[49m\n\u001b[1;32m    484\u001b[0m \u001b[38;5;66;03m# Fit an independent negative binomial model per gene\u001b[39;00m\n\u001b[1;32m    485\u001b[0m \u001b[38;5;28mself\u001b[39m\u001b[38;5;241m.\u001b[39mfit_genewise_dispersions()\n",
      "File \u001b[0;32m~/miniforge3/envs/pydeseq2/lib/python3.12/site-packages/pydeseq2/dds.py:595\u001b[0m, in \u001b[0;36mDeseqDataSet.fit_size_factors\u001b[0;34m(self, fit_type, control_genes)\u001b[0m\n\u001b[1;32m    587\u001b[0m \u001b[38;5;28;01melif\u001b[39;00m (\u001b[38;5;28mself\u001b[39m\u001b[38;5;241m.\u001b[39mX \u001b[38;5;241m==\u001b[39m \u001b[38;5;241m0\u001b[39m)\u001b[38;5;241m.\u001b[39many(\u001b[38;5;241m0\u001b[39m)\u001b[38;5;241m.\u001b[39mall():\n\u001b[1;32m    588\u001b[0m     \u001b[38;5;66;03m# There is at least a zero for each gene\u001b[39;00m\n\u001b[1;32m    589\u001b[0m     warnings\u001b[38;5;241m.\u001b[39mwarn(\n\u001b[1;32m    590\u001b[0m         \u001b[38;5;124m\"\u001b[39m\u001b[38;5;124mEvery gene contains at least one zero, \u001b[39m\u001b[38;5;124m\"\u001b[39m\n\u001b[1;32m    591\u001b[0m         \u001b[38;5;124m\"\u001b[39m\u001b[38;5;124mcannot compute log geometric means. Switching to iterative mode.\u001b[39m\u001b[38;5;124m\"\u001b[39m,\n\u001b[1;32m    592\u001b[0m         \u001b[38;5;167;01mUserWarning\u001b[39;00m,\n\u001b[1;32m    593\u001b[0m         stacklevel\u001b[38;5;241m=\u001b[39m\u001b[38;5;241m2\u001b[39m,\n\u001b[1;32m    594\u001b[0m     )\n\u001b[0;32m--> 595\u001b[0m     \u001b[38;5;28;43mself\u001b[39;49m\u001b[38;5;241;43m.\u001b[39;49m\u001b[43m_fit_iterate_size_factors\u001b[49m\u001b[43m(\u001b[49m\u001b[43m)\u001b[49m\n\u001b[1;32m    597\u001b[0m \u001b[38;5;28;01melse\u001b[39;00m:\n\u001b[1;32m    598\u001b[0m     \u001b[38;5;28mself\u001b[39m\u001b[38;5;241m.\u001b[39mlogmeans, \u001b[38;5;28mself\u001b[39m\u001b[38;5;241m.\u001b[39mfiltered_genes \u001b[38;5;241m=\u001b[39m deseq2_norm_fit(\u001b[38;5;28mself\u001b[39m\u001b[38;5;241m.\u001b[39mX)\n",
      "File \u001b[0;32m~/miniforge3/envs/pydeseq2/lib/python3.12/site-packages/pydeseq2/dds.py:1336\u001b[0m, in \u001b[0;36mDeseqDataSet._fit_iterate_size_factors\u001b[0;34m(self, niter, quant)\u001b[0m\n\u001b[1;32m   1333\u001b[0m old_sf \u001b[38;5;241m=\u001b[39m \u001b[38;5;28mself\u001b[39m\u001b[38;5;241m.\u001b[39mobsm[\u001b[38;5;124m\"\u001b[39m\u001b[38;5;124msize_factors\u001b[39m\u001b[38;5;124m\"\u001b[39m]\u001b[38;5;241m.\u001b[39mcopy()\n\u001b[1;32m   1335\u001b[0m \u001b[38;5;66;03m# Fit size factors using MLE\u001b[39;00m\n\u001b[0;32m-> 1336\u001b[0m res \u001b[38;5;241m=\u001b[39m \u001b[43mminimize\u001b[49m\u001b[43m(\u001b[49m\u001b[43mobjective\u001b[49m\u001b[43m,\u001b[49m\u001b[43m \u001b[49m\u001b[43mnp\u001b[49m\u001b[38;5;241;43m.\u001b[39;49m\u001b[43mlog\u001b[49m\u001b[43m(\u001b[49m\u001b[43mold_sf\u001b[49m\u001b[43m)\u001b[49m\u001b[43m,\u001b[49m\u001b[43m \u001b[49m\u001b[43mmethod\u001b[49m\u001b[38;5;241;43m=\u001b[39;49m\u001b[38;5;124;43m\"\u001b[39;49m\u001b[38;5;124;43mPowell\u001b[39;49m\u001b[38;5;124;43m\"\u001b[39;49m\u001b[43m)\u001b[49m\n\u001b[1;32m   1338\u001b[0m \u001b[38;5;28mself\u001b[39m\u001b[38;5;241m.\u001b[39mobsm[\u001b[38;5;124m\"\u001b[39m\u001b[38;5;124msize_factors\u001b[39m\u001b[38;5;124m\"\u001b[39m] \u001b[38;5;241m=\u001b[39m np\u001b[38;5;241m.\u001b[39mexp(res\u001b[38;5;241m.\u001b[39mx \u001b[38;5;241m-\u001b[39m np\u001b[38;5;241m.\u001b[39mmean(res\u001b[38;5;241m.\u001b[39mx))\n\u001b[1;32m   1340\u001b[0m \u001b[38;5;28;01mif\u001b[39;00m \u001b[38;5;129;01mnot\u001b[39;00m res\u001b[38;5;241m.\u001b[39msuccess:\n",
      "File \u001b[0;32m~/miniforge3/envs/pydeseq2/lib/python3.12/site-packages/scipy/optimize/_minimize.py:722\u001b[0m, in \u001b[0;36mminimize\u001b[0;34m(fun, x0, args, method, jac, hess, hessp, bounds, constraints, tol, callback, options)\u001b[0m\n\u001b[1;32m    719\u001b[0m     res \u001b[38;5;241m=\u001b[39m _minimize_neldermead(fun, x0, args, callback, bounds\u001b[38;5;241m=\u001b[39mbounds,\n\u001b[1;32m    720\u001b[0m                                \u001b[38;5;241m*\u001b[39m\u001b[38;5;241m*\u001b[39moptions)\n\u001b[1;32m    721\u001b[0m \u001b[38;5;28;01melif\u001b[39;00m meth \u001b[38;5;241m==\u001b[39m \u001b[38;5;124m'\u001b[39m\u001b[38;5;124mpowell\u001b[39m\u001b[38;5;124m'\u001b[39m:\n\u001b[0;32m--> 722\u001b[0m     res \u001b[38;5;241m=\u001b[39m \u001b[43m_minimize_powell\u001b[49m\u001b[43m(\u001b[49m\u001b[43mfun\u001b[49m\u001b[43m,\u001b[49m\u001b[43m \u001b[49m\u001b[43mx0\u001b[49m\u001b[43m,\u001b[49m\u001b[43m \u001b[49m\u001b[43margs\u001b[49m\u001b[43m,\u001b[49m\u001b[43m \u001b[49m\u001b[43mcallback\u001b[49m\u001b[43m,\u001b[49m\u001b[43m \u001b[49m\u001b[43mbounds\u001b[49m\u001b[43m,\u001b[49m\u001b[43m \u001b[49m\u001b[38;5;241;43m*\u001b[39;49m\u001b[38;5;241;43m*\u001b[39;49m\u001b[43moptions\u001b[49m\u001b[43m)\u001b[49m\n\u001b[1;32m    723\u001b[0m \u001b[38;5;28;01melif\u001b[39;00m meth \u001b[38;5;241m==\u001b[39m \u001b[38;5;124m'\u001b[39m\u001b[38;5;124mcg\u001b[39m\u001b[38;5;124m'\u001b[39m:\n\u001b[1;32m    724\u001b[0m     res \u001b[38;5;241m=\u001b[39m _minimize_cg(fun, x0, args, jac, callback, \u001b[38;5;241m*\u001b[39m\u001b[38;5;241m*\u001b[39moptions)\n",
      "File \u001b[0;32m~/miniforge3/envs/pydeseq2/lib/python3.12/site-packages/scipy/optimize/_optimize.py:3490\u001b[0m, in \u001b[0;36m_minimize_powell\u001b[0;34m(func, x0, args, callback, bounds, xtol, ftol, maxiter, maxfev, disp, direc, return_all, **unknown_options)\u001b[0m\n\u001b[1;32m   3488\u001b[0m direc1 \u001b[38;5;241m=\u001b[39m direc[i]\n\u001b[1;32m   3489\u001b[0m fx2 \u001b[38;5;241m=\u001b[39m fval\n\u001b[0;32m-> 3490\u001b[0m fval, x, direc1 \u001b[38;5;241m=\u001b[39m \u001b[43m_linesearch_powell\u001b[49m\u001b[43m(\u001b[49m\u001b[43mfunc\u001b[49m\u001b[43m,\u001b[49m\u001b[43m \u001b[49m\u001b[43mx\u001b[49m\u001b[43m,\u001b[49m\u001b[43m \u001b[49m\u001b[43mdirec1\u001b[49m\u001b[43m,\u001b[49m\n\u001b[1;32m   3491\u001b[0m \u001b[43m                                     \u001b[49m\u001b[43mtol\u001b[49m\u001b[38;5;241;43m=\u001b[39;49m\u001b[43mxtol\u001b[49m\u001b[43m \u001b[49m\u001b[38;5;241;43m*\u001b[39;49m\u001b[43m \u001b[49m\u001b[38;5;241;43m100\u001b[39;49m\u001b[43m,\u001b[49m\n\u001b[1;32m   3492\u001b[0m \u001b[43m                                     \u001b[49m\u001b[43mlower_bound\u001b[49m\u001b[38;5;241;43m=\u001b[39;49m\u001b[43mlower_bound\u001b[49m\u001b[43m,\u001b[49m\n\u001b[1;32m   3493\u001b[0m \u001b[43m                                     \u001b[49m\u001b[43mupper_bound\u001b[49m\u001b[38;5;241;43m=\u001b[39;49m\u001b[43mupper_bound\u001b[49m\u001b[43m,\u001b[49m\n\u001b[1;32m   3494\u001b[0m \u001b[43m                                     \u001b[49m\u001b[43mfval\u001b[49m\u001b[38;5;241;43m=\u001b[39;49m\u001b[43mfval\u001b[49m\u001b[43m)\u001b[49m\n\u001b[1;32m   3495\u001b[0m \u001b[38;5;28;01mif\u001b[39;00m (fx2 \u001b[38;5;241m-\u001b[39m fval) \u001b[38;5;241m>\u001b[39m delta:\n\u001b[1;32m   3496\u001b[0m     delta \u001b[38;5;241m=\u001b[39m fx2 \u001b[38;5;241m-\u001b[39m fval\n",
      "File \u001b[0;32m~/miniforge3/envs/pydeseq2/lib/python3.12/site-packages/scipy/optimize/_optimize.py:3166\u001b[0m, in \u001b[0;36m_linesearch_powell\u001b[0;34m(func, p, xi, tol, lower_bound, upper_bound, fval)\u001b[0m\n\u001b[1;32m   3163\u001b[0m     \u001b[38;5;28;01mreturn\u001b[39;00m ((fval, p, xi) \u001b[38;5;28;01mif\u001b[39;00m fval \u001b[38;5;129;01mis\u001b[39;00m \u001b[38;5;129;01mnot\u001b[39;00m \u001b[38;5;28;01mNone\u001b[39;00m \u001b[38;5;28;01melse\u001b[39;00m (func(p), p, xi))\n\u001b[1;32m   3164\u001b[0m \u001b[38;5;28;01melif\u001b[39;00m lower_bound \u001b[38;5;129;01mis\u001b[39;00m \u001b[38;5;28;01mNone\u001b[39;00m \u001b[38;5;129;01mand\u001b[39;00m upper_bound \u001b[38;5;129;01mis\u001b[39;00m \u001b[38;5;28;01mNone\u001b[39;00m:\n\u001b[1;32m   3165\u001b[0m     \u001b[38;5;66;03m# non-bounded minimization\u001b[39;00m\n\u001b[0;32m-> 3166\u001b[0m     res \u001b[38;5;241m=\u001b[39m \u001b[43m_recover_from_bracket_error\u001b[49m\u001b[43m(\u001b[49m\u001b[43m_minimize_scalar_brent\u001b[49m\u001b[43m,\u001b[49m\n\u001b[1;32m   3167\u001b[0m \u001b[43m                                      \u001b[49m\u001b[43mmyfunc\u001b[49m\u001b[43m,\u001b[49m\u001b[43m \u001b[49m\u001b[38;5;28;43;01mNone\u001b[39;49;00m\u001b[43m,\u001b[49m\u001b[43m \u001b[49m\u001b[38;5;28;43mtuple\u001b[39;49m\u001b[43m(\u001b[49m\u001b[43m)\u001b[49m\u001b[43m,\u001b[49m\u001b[43m \u001b[49m\u001b[43mxtol\u001b[49m\u001b[38;5;241;43m=\u001b[39;49m\u001b[43mtol\u001b[49m\u001b[43m)\u001b[49m\n\u001b[1;32m   3168\u001b[0m     alpha_min, fret \u001b[38;5;241m=\u001b[39m res\u001b[38;5;241m.\u001b[39mx, res\u001b[38;5;241m.\u001b[39mfun\n\u001b[1;32m   3169\u001b[0m     xi \u001b[38;5;241m=\u001b[39m alpha_min \u001b[38;5;241m*\u001b[39m xi\n",
      "File \u001b[0;32m~/miniforge3/envs/pydeseq2/lib/python3.12/site-packages/scipy/optimize/_optimize.py:3059\u001b[0m, in \u001b[0;36m_recover_from_bracket_error\u001b[0;34m(solver, fun, bracket, args, **options)\u001b[0m\n\u001b[1;32m   3040\u001b[0m \u001b[38;5;28;01mdef\u001b[39;00m \u001b[38;5;21m_recover_from_bracket_error\u001b[39m(solver, fun, bracket, args, \u001b[38;5;241m*\u001b[39m\u001b[38;5;241m*\u001b[39moptions):\n\u001b[1;32m   3041\u001b[0m     \u001b[38;5;66;03m# `bracket` was originally written without checking whether the resulting\u001b[39;00m\n\u001b[1;32m   3042\u001b[0m     \u001b[38;5;66;03m# bracket is valid. `brent` and `golden` built on top of it without\u001b[39;00m\n\u001b[0;32m   (...)\u001b[0m\n\u001b[1;32m   3056\u001b[0m     \u001b[38;5;66;03m# storing the information needed by `minimize_scalar` in the error object,\u001b[39;00m\n\u001b[1;32m   3057\u001b[0m     \u001b[38;5;66;03m# and intercepting it here.\u001b[39;00m\n\u001b[1;32m   3058\u001b[0m     \u001b[38;5;28;01mtry\u001b[39;00m:\n\u001b[0;32m-> 3059\u001b[0m         res \u001b[38;5;241m=\u001b[39m \u001b[43msolver\u001b[49m\u001b[43m(\u001b[49m\u001b[43mfun\u001b[49m\u001b[43m,\u001b[49m\u001b[43m \u001b[49m\u001b[43mbracket\u001b[49m\u001b[43m,\u001b[49m\u001b[43m \u001b[49m\u001b[43margs\u001b[49m\u001b[43m,\u001b[49m\u001b[43m \u001b[49m\u001b[38;5;241;43m*\u001b[39;49m\u001b[38;5;241;43m*\u001b[39;49m\u001b[43moptions\u001b[49m\u001b[43m)\u001b[49m\n\u001b[1;32m   3060\u001b[0m     \u001b[38;5;28;01mexcept\u001b[39;00m BracketError \u001b[38;5;28;01mas\u001b[39;00m e:\n\u001b[1;32m   3061\u001b[0m         msg \u001b[38;5;241m=\u001b[39m \u001b[38;5;28mstr\u001b[39m(e)\n",
      "File \u001b[0;32m~/miniforge3/envs/pydeseq2/lib/python3.12/site-packages/scipy/optimize/_optimize.py:2662\u001b[0m, in \u001b[0;36m_minimize_scalar_brent\u001b[0;34m(func, brack, args, xtol, maxiter, disp, **unknown_options)\u001b[0m\n\u001b[1;32m   2659\u001b[0m brent \u001b[38;5;241m=\u001b[39m Brent(func\u001b[38;5;241m=\u001b[39mfunc, args\u001b[38;5;241m=\u001b[39margs, tol\u001b[38;5;241m=\u001b[39mtol,\n\u001b[1;32m   2660\u001b[0m               full_output\u001b[38;5;241m=\u001b[39m\u001b[38;5;28;01mTrue\u001b[39;00m, maxiter\u001b[38;5;241m=\u001b[39mmaxiter, disp\u001b[38;5;241m=\u001b[39mdisp)\n\u001b[1;32m   2661\u001b[0m brent\u001b[38;5;241m.\u001b[39mset_bracket(brack)\n\u001b[0;32m-> 2662\u001b[0m \u001b[43mbrent\u001b[49m\u001b[38;5;241;43m.\u001b[39;49m\u001b[43moptimize\u001b[49m\u001b[43m(\u001b[49m\u001b[43m)\u001b[49m\n\u001b[1;32m   2663\u001b[0m x, fval, nit, nfev \u001b[38;5;241m=\u001b[39m brent\u001b[38;5;241m.\u001b[39mget_result(full_output\u001b[38;5;241m=\u001b[39m\u001b[38;5;28;01mTrue\u001b[39;00m)\n\u001b[1;32m   2665\u001b[0m success \u001b[38;5;241m=\u001b[39m nit \u001b[38;5;241m<\u001b[39m maxiter \u001b[38;5;129;01mand\u001b[39;00m \u001b[38;5;129;01mnot\u001b[39;00m (np\u001b[38;5;241m.\u001b[39misnan(x) \u001b[38;5;129;01mor\u001b[39;00m np\u001b[38;5;241m.\u001b[39misnan(fval))\n",
      "File \u001b[0;32m~/miniforge3/envs/pydeseq2/lib/python3.12/site-packages/scipy/optimize/_optimize.py:2432\u001b[0m, in \u001b[0;36mBrent.optimize\u001b[0;34m(self)\u001b[0m\n\u001b[1;32m   2429\u001b[0m \u001b[38;5;28;01mdef\u001b[39;00m \u001b[38;5;21moptimize\u001b[39m(\u001b[38;5;28mself\u001b[39m):\n\u001b[1;32m   2430\u001b[0m     \u001b[38;5;66;03m# set up for optimization\u001b[39;00m\n\u001b[1;32m   2431\u001b[0m     func \u001b[38;5;241m=\u001b[39m \u001b[38;5;28mself\u001b[39m\u001b[38;5;241m.\u001b[39mfunc\n\u001b[0;32m-> 2432\u001b[0m     xa, xb, xc, fa, fb, fc, funcalls \u001b[38;5;241m=\u001b[39m \u001b[38;5;28;43mself\u001b[39;49m\u001b[38;5;241;43m.\u001b[39;49m\u001b[43mget_bracket_info\u001b[49m\u001b[43m(\u001b[49m\u001b[43m)\u001b[49m\n\u001b[1;32m   2433\u001b[0m     _mintol \u001b[38;5;241m=\u001b[39m \u001b[38;5;28mself\u001b[39m\u001b[38;5;241m.\u001b[39m_mintol\n\u001b[1;32m   2434\u001b[0m     _cg \u001b[38;5;241m=\u001b[39m \u001b[38;5;28mself\u001b[39m\u001b[38;5;241m.\u001b[39m_cg\n",
      "File \u001b[0;32m~/miniforge3/envs/pydeseq2/lib/python3.12/site-packages/scipy/optimize/_optimize.py:2399\u001b[0m, in \u001b[0;36mBrent.get_bracket_info\u001b[0;34m(self)\u001b[0m\n\u001b[1;32m   2396\u001b[0m \u001b[38;5;66;03m### BEGIN core bracket_info code ###\u001b[39;00m\n\u001b[1;32m   2397\u001b[0m \u001b[38;5;66;03m### carefully DOCUMENT any CHANGES in core ##\u001b[39;00m\n\u001b[1;32m   2398\u001b[0m \u001b[38;5;28;01mif\u001b[39;00m brack \u001b[38;5;129;01mis\u001b[39;00m \u001b[38;5;28;01mNone\u001b[39;00m:\n\u001b[0;32m-> 2399\u001b[0m     xa, xb, xc, fa, fb, fc, funcalls \u001b[38;5;241m=\u001b[39m \u001b[43mbracket\u001b[49m\u001b[43m(\u001b[49m\u001b[43mfunc\u001b[49m\u001b[43m,\u001b[49m\u001b[43m \u001b[49m\u001b[43margs\u001b[49m\u001b[38;5;241;43m=\u001b[39;49m\u001b[43margs\u001b[49m\u001b[43m)\u001b[49m\n\u001b[1;32m   2400\u001b[0m \u001b[38;5;28;01melif\u001b[39;00m \u001b[38;5;28mlen\u001b[39m(brack) \u001b[38;5;241m==\u001b[39m \u001b[38;5;241m2\u001b[39m:\n\u001b[1;32m   2401\u001b[0m     xa, xb, xc, fa, fb, fc, funcalls \u001b[38;5;241m=\u001b[39m bracket(func, xa\u001b[38;5;241m=\u001b[39mbrack[\u001b[38;5;241m0\u001b[39m],\n\u001b[1;32m   2402\u001b[0m                                                xb\u001b[38;5;241m=\u001b[39mbrack[\u001b[38;5;241m1\u001b[39m], args\u001b[38;5;241m=\u001b[39margs)\n",
      "File \u001b[0;32m~/miniforge3/envs/pydeseq2/lib/python3.12/site-packages/scipy/optimize/_optimize.py:2956\u001b[0m, in \u001b[0;36mbracket\u001b[0;34m(func, xa, xb, args, grow_limit, maxiter)\u001b[0m\n\u001b[1;32m   2954\u001b[0m xa, xb \u001b[38;5;241m=\u001b[39m np\u001b[38;5;241m.\u001b[39masarray([xa, xb])\n\u001b[1;32m   2955\u001b[0m fa \u001b[38;5;241m=\u001b[39m func(\u001b[38;5;241m*\u001b[39m(xa,) \u001b[38;5;241m+\u001b[39m args)\n\u001b[0;32m-> 2956\u001b[0m fb \u001b[38;5;241m=\u001b[39m \u001b[43mfunc\u001b[49m\u001b[43m(\u001b[49m\u001b[38;5;241;43m*\u001b[39;49m\u001b[43m(\u001b[49m\u001b[43mxb\u001b[49m\u001b[43m,\u001b[49m\u001b[43m)\u001b[49m\u001b[43m \u001b[49m\u001b[38;5;241;43m+\u001b[39;49m\u001b[43m \u001b[49m\u001b[43margs\u001b[49m\u001b[43m)\u001b[49m\n\u001b[1;32m   2957\u001b[0m \u001b[38;5;28;01mif\u001b[39;00m (fa \u001b[38;5;241m<\u001b[39m fb):                      \u001b[38;5;66;03m# Switch so fa > fb\u001b[39;00m\n\u001b[1;32m   2958\u001b[0m     xa, xb \u001b[38;5;241m=\u001b[39m xb, xa\n",
      "File \u001b[0;32m~/miniforge3/envs/pydeseq2/lib/python3.12/site-packages/scipy/optimize/_optimize.py:3159\u001b[0m, in \u001b[0;36m_linesearch_powell.<locals>.myfunc\u001b[0;34m(alpha)\u001b[0m\n\u001b[1;32m   3158\u001b[0m \u001b[38;5;28;01mdef\u001b[39;00m \u001b[38;5;21mmyfunc\u001b[39m(alpha):\n\u001b[0;32m-> 3159\u001b[0m     \u001b[38;5;28;01mreturn\u001b[39;00m \u001b[43mfunc\u001b[49m\u001b[43m(\u001b[49m\u001b[43mp\u001b[49m\u001b[43m \u001b[49m\u001b[38;5;241;43m+\u001b[39;49m\u001b[43m \u001b[49m\u001b[43malpha\u001b[49m\u001b[38;5;241;43m*\u001b[39;49m\u001b[43mxi\u001b[49m\u001b[43m)\u001b[49m\n",
      "File \u001b[0;32m~/miniforge3/envs/pydeseq2/lib/python3.12/site-packages/scipy/optimize/_optimize.py:526\u001b[0m, in \u001b[0;36m_wrap_scalar_function_maxfun_validation.<locals>.function_wrapper\u001b[0;34m(x, *wrapper_args)\u001b[0m\n\u001b[1;32m    524\u001b[0m ncalls[\u001b[38;5;241m0\u001b[39m] \u001b[38;5;241m+\u001b[39m\u001b[38;5;241m=\u001b[39m \u001b[38;5;241m1\u001b[39m\n\u001b[1;32m    525\u001b[0m \u001b[38;5;66;03m# A copy of x is sent to the user function (gh13740)\u001b[39;00m\n\u001b[0;32m--> 526\u001b[0m fx \u001b[38;5;241m=\u001b[39m \u001b[43mfunction\u001b[49m\u001b[43m(\u001b[49m\u001b[43mnp\u001b[49m\u001b[38;5;241;43m.\u001b[39;49m\u001b[43mcopy\u001b[49m\u001b[43m(\u001b[49m\u001b[43mx\u001b[49m\u001b[43m)\u001b[49m\u001b[43m,\u001b[49m\u001b[43m \u001b[49m\u001b[38;5;241;43m*\u001b[39;49m\u001b[43m(\u001b[49m\u001b[43mwrapper_args\u001b[49m\u001b[43m \u001b[49m\u001b[38;5;241;43m+\u001b[39;49m\u001b[43m \u001b[49m\u001b[43margs\u001b[49m\u001b[43m)\u001b[49m\u001b[43m)\u001b[49m\n\u001b[1;32m    527\u001b[0m \u001b[38;5;66;03m# Ideally, we'd like to a have a true scalar returned from f(x). For\u001b[39;00m\n\u001b[1;32m    528\u001b[0m \u001b[38;5;66;03m# backwards-compatibility, also allow np.array([1.3]),\u001b[39;00m\n\u001b[1;32m    529\u001b[0m \u001b[38;5;66;03m# np.array([[1.3]]) etc.\u001b[39;00m\n\u001b[1;32m    530\u001b[0m \u001b[38;5;28;01mif\u001b[39;00m \u001b[38;5;129;01mnot\u001b[39;00m np\u001b[38;5;241m.\u001b[39misscalar(fx):\n",
      "File \u001b[0;32m~/miniforge3/envs/pydeseq2/lib/python3.12/site-packages/pydeseq2/dds.py:1300\u001b[0m, in \u001b[0;36mDeseqDataSet._fit_iterate_size_factors.<locals>.objective\u001b[0;34m(p)\u001b[0m\n\u001b[1;32m   1296\u001b[0m \u001b[38;5;28;01mdef\u001b[39;00m \u001b[38;5;21mobjective\u001b[39m(p):\n\u001b[1;32m   1297\u001b[0m     sf \u001b[38;5;241m=\u001b[39m np\u001b[38;5;241m.\u001b[39mexp(p \u001b[38;5;241m-\u001b[39m np\u001b[38;5;241m.\u001b[39mmean(p))\n\u001b[1;32m   1298\u001b[0m     nll \u001b[38;5;241m=\u001b[39m nb_nll(\n\u001b[1;32m   1299\u001b[0m         counts\u001b[38;5;241m=\u001b[39m\u001b[38;5;28mself\u001b[39m[:, \u001b[38;5;28mself\u001b[39m\u001b[38;5;241m.\u001b[39mnon_zero_genes]\u001b[38;5;241m.\u001b[39mX,\n\u001b[0;32m-> 1300\u001b[0m         mu\u001b[38;5;241m=\u001b[39m\u001b[38;5;28;43mself\u001b[39;49m\u001b[43m[\u001b[49m\u001b[43m:\u001b[49m\u001b[43m,\u001b[49m\u001b[43m \u001b[49m\u001b[38;5;28;43mself\u001b[39;49m\u001b[38;5;241;43m.\u001b[39;49m\u001b[43mnon_zero_genes\u001b[49m\u001b[43m]\u001b[49m\u001b[38;5;241;43m.\u001b[39;49m\u001b[43mlayers\u001b[49m\u001b[43m[\u001b[49m\u001b[38;5;124;43m\"\u001b[39;49m\u001b[38;5;124;43m_mu_hat\u001b[39;49m\u001b[38;5;124;43m\"\u001b[39;49m\u001b[43m]\u001b[49m\n\u001b[1;32m   1301\u001b[0m         \u001b[38;5;241m/\u001b[39m \u001b[38;5;28mself\u001b[39m\u001b[38;5;241m.\u001b[39mobsm[\u001b[38;5;124m\"\u001b[39m\u001b[38;5;124msize_factors\u001b[39m\u001b[38;5;124m\"\u001b[39m][:, \u001b[38;5;28;01mNone\u001b[39;00m]\n\u001b[1;32m   1302\u001b[0m         \u001b[38;5;241m*\u001b[39m sf[:, \u001b[38;5;28;01mNone\u001b[39;00m],\n\u001b[1;32m   1303\u001b[0m         alpha\u001b[38;5;241m=\u001b[39m\u001b[38;5;28mself\u001b[39m[:, \u001b[38;5;28mself\u001b[39m\u001b[38;5;241m.\u001b[39mnon_zero_genes]\u001b[38;5;241m.\u001b[39mvarm[\u001b[38;5;124m\"\u001b[39m\u001b[38;5;124mdispersions\u001b[39m\u001b[38;5;124m\"\u001b[39m],\n\u001b[1;32m   1304\u001b[0m     )\n\u001b[1;32m   1305\u001b[0m     \u001b[38;5;66;03m# Take out the lowest likelihoods (highest neg) from the sum\u001b[39;00m\n\u001b[1;32m   1306\u001b[0m     \u001b[38;5;28;01mreturn\u001b[39;00m np\u001b[38;5;241m.\u001b[39msum(nll[nll \u001b[38;5;241m<\u001b[39m np\u001b[38;5;241m.\u001b[39mquantile(nll, quant)])\n",
      "File \u001b[0;32m~/miniforge3/envs/pydeseq2/lib/python3.12/site-packages/anndata/_core/aligned_mapping.py:151\u001b[0m, in \u001b[0;36mAlignedViewMixin.__getitem__\u001b[0;34m(self, key)\u001b[0m\n\u001b[1;32m    148\u001b[0m \u001b[38;5;28;01mdef\u001b[39;00m \u001b[38;5;21m__getitem__\u001b[39m(\u001b[38;5;28mself\u001b[39m, key: \u001b[38;5;28mstr\u001b[39m) \u001b[38;5;241m-\u001b[39m\u001b[38;5;241m>\u001b[39m V:\n\u001b[1;32m    149\u001b[0m     \u001b[38;5;28;01mreturn\u001b[39;00m as_view(\n\u001b[1;32m    150\u001b[0m         _subset(\u001b[38;5;28mself\u001b[39m\u001b[38;5;241m.\u001b[39mparent_mapping[key], \u001b[38;5;28mself\u001b[39m\u001b[38;5;241m.\u001b[39msubset_idx),\n\u001b[0;32m--> 151\u001b[0m         ElementRef(\u001b[38;5;28;43mself\u001b[39;49m\u001b[38;5;241;43m.\u001b[39;49m\u001b[43mparent\u001b[49m, \u001b[38;5;28mself\u001b[39m\u001b[38;5;241m.\u001b[39mattrname, (key,)),\n\u001b[1;32m    152\u001b[0m     )\n",
      "File \u001b[0;32m~/miniforge3/envs/pydeseq2/lib/python3.12/site-packages/anndata/_core/aligned_mapping.py:113\u001b[0m, in \u001b[0;36mAlignedMapping.parent\u001b[0;34m(self)\u001b[0m\n\u001b[1;32m    108\u001b[0m \u001b[38;5;129m@property\u001b[39m\n\u001b[1;32m    109\u001b[0m \u001b[38;5;129m@abstractmethod\u001b[39m\n\u001b[1;32m    110\u001b[0m \u001b[38;5;28;01mdef\u001b[39;00m \u001b[38;5;21mis_view\u001b[39m(\u001b[38;5;28mself\u001b[39m) \u001b[38;5;241m-\u001b[39m\u001b[38;5;241m>\u001b[39m \u001b[38;5;28mbool\u001b[39m:\n\u001b[1;32m    111\u001b[0m     \u001b[38;5;28;01mpass\u001b[39;00m\n\u001b[0;32m--> 113\u001b[0m \u001b[38;5;129m@property\u001b[39m\n\u001b[1;32m    114\u001b[0m \u001b[38;5;28;01mdef\u001b[39;00m \u001b[38;5;21mparent\u001b[39m(\u001b[38;5;28mself\u001b[39m) \u001b[38;5;241m-\u001b[39m\u001b[38;5;241m>\u001b[39m AnnData \u001b[38;5;241m|\u001b[39m Raw:\n\u001b[1;32m    115\u001b[0m     \u001b[38;5;28;01mreturn\u001b[39;00m \u001b[38;5;28mself\u001b[39m\u001b[38;5;241m.\u001b[39m_parent\n\u001b[1;32m    117\u001b[0m \u001b[38;5;28;01mdef\u001b[39;00m \u001b[38;5;21mcopy\u001b[39m(\u001b[38;5;28mself\u001b[39m):\n",
      "\u001b[0;31mKeyboardInterrupt\u001b[0m: "
     ]
    }
   ],
   "source": [
    "dds.deseq2()"
   ]
  },
  {
   "cell_type": "markdown",
   "metadata": {},
   "source": [
    "## Results"
   ]
  },
  {
   "cell_type": "code",
   "execution_count": null,
   "metadata": {},
   "outputs": [
    {
     "ename": "AssertionError",
     "evalue": "Please provide a fitted DeseqDataSet by first running the `deseq2` method.",
     "output_type": "error",
     "traceback": [
      "\u001b[0;31m---------------------------------------------------------------------------\u001b[0m",
      "\u001b[0;31mAssertionError\u001b[0m                            Traceback (most recent call last)",
      "Cell \u001b[0;32mIn[12], line 2\u001b[0m\n\u001b[1;32m      1\u001b[0m \u001b[38;5;66;03m# Extract results\u001b[39;00m\n\u001b[0;32m----> 2\u001b[0m results \u001b[38;5;241m=\u001b[39m \u001b[43mDeseqStats\u001b[49m\u001b[43m(\u001b[49m\u001b[43mdds\u001b[49m\u001b[43m)\u001b[49m\n\u001b[1;32m      3\u001b[0m results_df \u001b[38;5;241m=\u001b[39m results\u001b[38;5;241m.\u001b[39msummary()\n\u001b[1;32m      5\u001b[0m results_wt_vs_mdx \u001b[38;5;241m=\u001b[39m results(contrast\u001b[38;5;241m=\u001b[39m[\u001b[38;5;124m'\u001b[39m\u001b[38;5;124mgenotype\u001b[39m\u001b[38;5;124m'\u001b[39m, \u001b[38;5;124m'\u001b[39m\u001b[38;5;124mWT\u001b[39m\u001b[38;5;124m'\u001b[39m, \u001b[38;5;124m'\u001b[39m\u001b[38;5;124mMdx\u001b[39m\u001b[38;5;124m'\u001b[39m])\n",
      "File \u001b[0;32m~/miniforge3/envs/pydeseq2/lib/python3.12/site-packages/pydeseq2/ds.py:152\u001b[0m, in \u001b[0;36mDeseqStats.__init__\u001b[0;34m(self, dds, contrast, alpha, cooks_filter, independent_filter, prior_LFC_var, lfc_null, alt_hypothesis, inference, quiet)\u001b[0m\n\u001b[1;32m    136\u001b[0m \u001b[38;5;28;01mdef\u001b[39;00m \u001b[38;5;21m__init__\u001b[39m(\n\u001b[1;32m    137\u001b[0m     \u001b[38;5;28mself\u001b[39m,\n\u001b[1;32m    138\u001b[0m     dds: DeseqDataSet,\n\u001b[0;32m   (...)\u001b[0m\n\u001b[1;32m    149\u001b[0m     quiet: \u001b[38;5;28mbool\u001b[39m \u001b[38;5;241m=\u001b[39m \u001b[38;5;28;01mFalse\u001b[39;00m,\n\u001b[1;32m    150\u001b[0m ) \u001b[38;5;241m-\u001b[39m\u001b[38;5;241m>\u001b[39m \u001b[38;5;28;01mNone\u001b[39;00m:\n\u001b[1;32m    151\u001b[0m     \u001b[38;5;28;01massert\u001b[39;00m (\n\u001b[0;32m--> 152\u001b[0m         \u001b[38;5;124m\"\u001b[39m\u001b[38;5;124mLFC\u001b[39m\u001b[38;5;124m\"\u001b[39m \u001b[38;5;129;01min\u001b[39;00m dds\u001b[38;5;241m.\u001b[39mvarm\n\u001b[1;32m    153\u001b[0m     ), \u001b[38;5;124m\"\u001b[39m\u001b[38;5;124mPlease provide a fitted DeseqDataSet by first running the `deseq2` method.\u001b[39m\u001b[38;5;124m\"\u001b[39m\n\u001b[1;32m    155\u001b[0m     \u001b[38;5;28mself\u001b[39m\u001b[38;5;241m.\u001b[39mdds \u001b[38;5;241m=\u001b[39m dds\n\u001b[1;32m    157\u001b[0m     \u001b[38;5;28mself\u001b[39m\u001b[38;5;241m.\u001b[39malpha \u001b[38;5;241m=\u001b[39m alpha\n",
      "\u001b[0;31mAssertionError\u001b[0m: Please provide a fitted DeseqDataSet by first running the `deseq2` method."
     ]
    }
   ],
   "source": [
    "# Extract results\n",
    "results = DeseqStats(dds)\n",
    "results_df = results.summary()\n",
    "\n",
    "results_wt_vs_mdx = results(contrast=['genotype', 'WT', 'Mdx'])\n",
    "print(\"WT vs. Mdx Comparison:\")\n",
    "print(results_wt_vs_mdx)\n",
    "\n",
    "# Extract results for WT vs. MdxSCID\n",
    "results_wt_vs_mdxscid = results(contrast=['genotype', 'WT', 'MdxSCID'])\n",
    "print(\"WT vs. MdxSCID Comparison:\")\n",
    "print(results_wt_vs_mdxscid)\n",
    "\n",
    "# Extract results for Mdx vs. MdxSCID\n",
    "results_mdx_vs_mdxscid = results(contrast=['genotype', 'Mdx', 'MdxSCID'])\n",
    "print(\"Mdx vs. MdxSCID Comparison:\")\n",
    "print(results_mdx_vs_mdxscid)\n",
    "\n",
    "# Optionally, save results to CSV files\n",
    "results_wt_vs_mdx.to_csv(f\"./outputs/results_wt_vs_mdx-{timestamp}.csv\")\n",
    "results_wt_vs_mdxscid.to_csv(f\"./outputs/results_wt_vs_mdxscid-{timestamp}.csv\")\n",
    "results_mdx_vs_mdxscid.to_csv(f\"./outputs/results_mdx_vs_mdxscid-{timestamp}.csv\")"
   ]
  },
  {
   "cell_type": "code",
   "execution_count": null,
   "metadata": {},
   "outputs": [],
   "source": [
    "import numpy as np\n",
    "import pandas as pd\n",
    "import matplotlib.pyplot as plt\n",
    "import seaborn as sns\n",
    "\n",
    "# Define the function to create and save a volcano plot\n",
    "def plot_volcano(results_df, title, filename):\n",
    "    plt.figure(figsize=(10, 6))\n",
    "    sns.scatterplot(\n",
    "        x='log2FoldChange', y='-log10(padj)', data=results_df,\n",
    "        hue='significant', edgecolor=None, palette={True: 'red', False: 'black'}, legend=False\n",
    "    )\n",
    "    plt.title(title)\n",
    "    plt.xlabel('Log2 Fold Change')\n",
    "    plt.ylabel('-Log10 Adjusted P-value')\n",
    "    plt.axhline(y=-np.log10(0.05), color='blue', linestyle='--')\n",
    "    plt.axvline(x=-1, color='green', linestyle='--')\n",
    "    plt.axvline(x=1, color='green', linestyle='--')\n",
    "    plt.savefig(filename)\n",
    "    plt.show()\n",
    "\n",
    "# Example for WT vs Mdx\n",
    "results_wt_vs_mdx['-log10(padj)'] = -np.log10(results_wt_vs_mdx['padj'])\n",
    "results_wt_vs_mdx['significant'] = (results_wt_vs_mdx['padj'] < 0.05) & (np.abs(results_wt_vs_mdx['log2FoldChange']) > 1)\n",
    "\n",
    "plot_volcano(results_wt_vs_mdx, 'Volcano Plot: WT vs Mdx', 'volcano_plot_wt_vs_mdx.png')\n",
    "\n",
    "# Repeat for other comparisons\n",
    "results_wt_vs_mdxscid['-log10(padj)'] = -np.log10(results_wt_vs_mdxscid['padj'])\n",
    "results_wt_vs_mdxscid['significant'] = (results_wt_vs_mdxscid['padj'] < 0.05) & (np.abs(results_wt_vs_mdxscid['log2FoldChange']) > 1)\n",
    "\n",
    "plot_volcano(results_wt_vs_mdxscid, 'Volcano Plot: WT vs MdxSCID', 'volcano_plot_wt_vs_mdxscid.png')\n",
    "\n",
    "results_mdx_vs_mdxscid['-log10(padj)'] = -np.log10(results_mdx_vs_mdxscid['padj'])\n",
    "results_mdx_vs_mdxscid['significant'] = (results_mdx_vs_mdxscid['padj'] < 0.05) & (np.abs(results_mdx_vs_mdxscid['log2FoldChange']) > 1)\n",
    "\n",
    "plot_volcano(results_mdx_vs_mdxscid, 'Volcano Plot: Mdx vs MdxSCID', 'volcano_plot_mdx_vs_mdxscid.png')\n"
   ]
  },
  {
   "cell_type": "code",
   "execution_count": null,
   "metadata": {},
   "outputs": [],
   "source": [
    "import matplotlib.pyplot as plt\n",
    "import seaborn as sns\n",
    "import scanpy as sc\n",
    "\n",
    "def plot_heatmap(adata, title, filename):\n",
    "    sc.pl.heatmap(\n",
    "        adata, var_names=adata.var_names[:50], groupby='genotype', \n",
    "        cmap='viridis', dendrogram=True, show=False\n",
    "    )\n",
    "    plt.title(title)\n",
    "    plt.savefig(filename)\n",
    "    plt.show()\n",
    "\n",
    "# Subset your AnnData object to include only significant genes\n",
    "significant_genes_wt_vs_mdx = results_wt_vs_mdx[results_wt_vs_mdx['significant']].index\n",
    "adata_wt_vs_mdx = adata_combined[:, significant_genes_wt_vs_mdx]\n",
    "\n",
    "plot_heatmap(adata_wt_vs_mdx, 'Heatmap: WT vs Mdx', 'heatmap_wt_vs_mdx.png')\n",
    "\n",
    "# Repeat for other comparisons\n",
    "significant_genes_wt_vs_mdxscid = results_wt_vs_mdxscid[results_wt_vs_mdxscid['significant']].index\n",
    "adata_wt_vs_mdxscid = adata_combined[:, significant_genes_wt_vs_mdxscid]\n",
    "\n",
    "plot_heatmap(adata_wt_vs_mdxscid, 'Heatmap: WT vs MdxSCID', 'heatmap_wt_vs_mdxscid.png')\n",
    "\n",
    "significant_genes_mdx_vs_mdxscid = results_mdx_vs_mdxscid[results_mdx_vs_mdxscid['significant']].index\n",
    "adata_mdx_vs_mdxscid = adata_combined[:, significant_genes_mdx_vs_mdxscid]\n",
    "\n",
    "plot_heatmap(adata_mdx_vs_mdxscid, 'Heatmap: Mdx vs MdxSCID', 'heatmap_mdx_vs_mdxscid.png')\n"
   ]
  }
 ],
 "metadata": {
  "kernelspec": {
   "display_name": "pydeseq2",
   "language": "python",
   "name": "python3"
  },
  "language_info": {
   "codemirror_mode": {
    "name": "ipython",
    "version": 3
   },
   "file_extension": ".py",
   "mimetype": "text/x-python",
   "name": "python",
   "nbconvert_exporter": "python",
   "pygments_lexer": "ipython3",
   "version": "3.12.4"
  }
 },
 "nbformat": 4,
 "nbformat_minor": 2
}
