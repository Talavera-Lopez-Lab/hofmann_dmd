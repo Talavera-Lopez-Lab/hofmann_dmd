{
 "cells": [
  {
   "cell_type": "code",
   "execution_count": null,
   "metadata": {},
   "outputs": [],
   "source": [
    "import scanpy as sc\n",
    "import pandas as pd\n",
    "import numpy as np\n",
    "\n",
    "from pydeseq2.dds import DeseqDataSet\n",
    "from pydeseq2.ds import DeseqStats\n",
    "from anndata import AnnData"
   ]
  },
  {
   "cell_type": "code",
   "execution_count": null,
   "metadata": {},
   "outputs": [],
   "source": [
    "inputs = '../data/DE_data/'"
   ]
  },
  {
   "cell_type": "code",
   "execution_count": null,
   "metadata": {},
   "outputs": [],
   "source": [
    "file1 = inputs + \"DMD-Mdx_CMC-Immune_ctl240711.log.h5ad\"\n",
    "file2 = inputs + \"DMD-MdxSCID_CMC-Immune_ctl240711.log.h5ad\"\n",
    "file3 = inputs +\"DMD-WT_CMC-Immune_ctl240711.log.h5ad\"\n",
    "\n",
    "adata1 = sc.read_h5ad(file1)\n",
    "adata2 = sc.read_h5ad(file2)\n",
    "adata3 = sc.read_h5ad(file3)\n",
    "\n",
    "# Inspect the structure of the data\n",
    "print(adata1)\n",
    "print(adata2)\n",
    "print(adata3)"
   ]
  },
  {
   "cell_type": "code",
   "execution_count": null,
   "metadata": {},
   "outputs": [],
   "source": [
    "# Create a combined AnnData object\n",
    "adata_combined = adata1.concatenate(adata2, adata3)\n",
    "\n",
    "\n",
    "adata_combined = AnnData(adata_combined)\n",
    "adata_combined"
   ]
  },
  {
   "cell_type": "code",
   "execution_count": null,
   "metadata": {},
   "outputs": [],
   "source": [
    "def X_is_raw(adata_combined):\n",
    "    return np.array_equal(adata_combined.X.sum(axis=0).astype(int), adata_combined.X.sum(axis=0))\n",
    "\n",
    "is_raw = X_is_raw(adata_combined)\n",
    "print(f\"Is X raw? {is_raw}\")"
   ]
  },
  {
   "cell_type": "code",
   "execution_count": null,
   "metadata": {},
   "outputs": [],
   "source": [
    "adata_combined.X = adata_combined.X.astype(int)"
   ]
  },
  {
   "cell_type": "code",
   "execution_count": null,
   "metadata": {},
   "outputs": [],
   "source": [
    "is_raw = X_is_raw(adata_combined)\n",
    "print(f\"Is X raw? {is_raw}\")"
   ]
  },
  {
   "cell_type": "code",
   "execution_count": null,
   "metadata": {},
   "outputs": [],
   "source": [
    "counts_df = adata_combined.X.toarray()\n",
    "\n",
    "# Extract the metadata\n",
    "metadata = adata_combined.obs\n",
    "\n",
    "\n",
    "# Create the metadata DataFrame\n",
    "metadata_df = pd.DataFrame(metadata)\n",
    "\n",
    "# Ensure the genotype column is categorical\n",
    "metadata_df[\"genotype\"] = metadata_df[\"genotype\"].astype('category')"
   ]
  },
  {
   "cell_type": "code",
   "execution_count": null,
   "metadata": {},
   "outputs": [],
   "source": [
    "# Prepare the DESeq2 dataset\n",
    "dds = DeseqDataSet(\n",
    "    counts=counts_df,\n",
    "    metadata=metadata_df,\n",
    "    design_factors=[\"genotype\"]\n",
    ")\n",
    "\n",
    "# Perform differential expression analysis\n",
    "dds.deseq2()"
   ]
  },
  {
   "cell_type": "code",
   "execution_count": null,
   "metadata": {},
   "outputs": [],
   "source": [
    "# Extract results\n",
    "results = DeseqStats(dds)\n",
    "results_df = results.summary()\n",
    "\n",
    "# Display the results\n",
    "print(results_df.head())"
   ]
  },
  {
   "cell_type": "code",
   "execution_count": null,
   "metadata": {},
   "outputs": [],
   "source": []
  }
 ],
 "metadata": {
  "kernelspec": {
   "display_name": "pydeseq2",
   "language": "python",
   "name": "python3"
  },
  "language_info": {
   "codemirror_mode": {
    "name": "ipython",
    "version": 3
   },
   "file_extension": ".py",
   "mimetype": "text/x-python",
   "name": "python",
   "nbconvert_exporter": "python",
   "pygments_lexer": "ipython3",
   "version": "3.12.4"
  }
 },
 "nbformat": 4,
 "nbformat_minor": 2
}
