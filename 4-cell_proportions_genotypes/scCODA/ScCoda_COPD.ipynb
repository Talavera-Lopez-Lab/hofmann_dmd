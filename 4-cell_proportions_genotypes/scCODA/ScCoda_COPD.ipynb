{
 "cells": [
  {
   "cell_type": "markdown",
   "metadata": {},
   "source": [
    "# Compositional analysis of the COPD-IAV scRNA dataset using scCoda (pertpy):\n",
    "- **Developed by**: Christian Eger\n",
    "- **Talavera-López Lab - Würzburg Institute for Systems Immunology - Faculty of Medicine - Julius Maximilian Universität Würzburg**\n",
    "- **Created on**: 231214\n",
    "- **Last modified**: 240108<br>"
   ]
  },
  {
   "cell_type": "markdown",
   "metadata": {},
   "source": [
    "Created mamba environment in /Users/egerc/miniforge3/envs/pertpy-env\n",
    "$ mamba create -n pertpy-env python=3.10\n",
    "$ mamba activate pertpy-env"
   ]
  },
  {
   "cell_type": "code",
   "execution_count": 2,
   "metadata": {},
   "outputs": [
    {
     "name": "stderr",
     "output_type": "stream",
     "text": [
      "OMP: Info #276: omp_set_nested routine deprecated, please use omp_set_max_active_levels instead.\n"
     ]
    }
   ],
   "source": [
    "import warnings\n",
    "\n",
    "import pandas as pd\n",
    "\n",
    "warnings.filterwarnings(\"ignore\")\n",
    "warnings.simplefilter(\"ignore\")\n",
    "\n",
    "import scanpy as sc\n",
    "import numpy as np\n",
    "#import tensorflow as tf\n",
    "\n",
    "import matplotlib.pyplot as plt\n",
    "import matplotlib\n",
    "import seaborn as sns\n",
    "import altair as alt\n",
    "import pertpy as pt\n",
    "from statannot import add_stat_annotation\n",
    "from scipy import stats\n",
    "\n"
   ]
  },
  {
   "cell_type": "code",
   "execution_count": 3,
   "metadata": {},
   "outputs": [
    {
     "name": "stdout",
     "output_type": "stream",
     "text": [
      "-----\n",
      "anndata     0.10.4\n",
      "scanpy      1.9.6\n",
      "-----\n",
      "PIL                         10.2.0\n",
      "absl                        NA\n",
      "adjustText                  0.8\n",
      "aiohttp                     3.9.1\n",
      "aiosignal                   1.3.1\n",
      "altair                      5.2.0\n",
      "annotated_types             0.6.0\n",
      "anyio                       NA\n",
      "appnope                     0.1.3\n",
      "arrow                       1.3.0\n",
      "arviz                       0.17.0\n",
      "asttokens                   NA\n",
      "async_timeout               4.0.3\n",
      "attr                        23.2.0\n",
      "attrs                       23.2.0\n",
      "backoff                     2.2.1\n",
      "bs4                         4.12.2\n",
      "certifi                     2023.11.17\n",
      "cffi                        1.16.0\n",
      "chardet                     5.2.0\n",
      "charset_normalizer          3.3.2\n",
      "chex                        0.1.7\n",
      "click                       8.1.7\n",
      "comm                        0.2.1\n",
      "contextlib2                 NA\n",
      "croniter                    NA\n",
      "custom_inherit              2.4.1\n",
      "cycler                      0.12.1\n",
      "cython_runtime              NA\n",
      "dateutil                    2.8.2\n",
      "debugpy                     1.8.0\n",
      "decorator                   5.1.1\n",
      "decoupler                   1.5.0\n",
      "deepdiff                    6.7.1\n",
      "docrep                      0.3.2\n",
      "etils                       1.6.0\n",
      "exceptiongroup              1.2.0\n",
      "executing                   2.0.1\n",
      "fastapi                     0.108.0\n",
      "flax                        0.7.5\n",
      "frozenlist                  1.4.1\n",
      "fsspec                      2023.12.2\n",
      "h5py                        3.10.0\n",
      "idna                        3.6\n",
      "igraph                      0.10.8\n",
      "importlib_resources         NA\n",
      "ipykernel                   6.28.0\n",
      "jax                         0.4.23\n",
      "jaxlib                      0.4.23\n",
      "jaxopt                      NA\n",
      "jedi                        0.19.1\n",
      "jinja2                      3.1.2\n",
      "joblib                      1.3.2\n",
      "jsonschema                  4.20.0\n",
      "jsonschema_specifications   NA\n",
      "kiwisolver                  1.4.5\n",
      "leidenalg                   0.10.1\n",
      "lightning                   2.0.9.post0\n",
      "lightning_cloud             0.5.57\n",
      "lightning_fabric            2.1.3\n",
      "lightning_utilities         0.10.0\n",
      "llvmlite                    0.41.1\n",
      "markupsafe                  2.1.3\n",
      "matplotlib                  3.8.2\n",
      "ml_collections              NA\n",
      "ml_dtypes                   0.3.2\n",
      "mpl_toolkits                NA\n",
      "mpmath                      1.3.0\n",
      "msgpack                     1.0.7\n",
      "mudata                      0.2.3\n",
      "multidict                   6.0.4\n",
      "multipart                   0.0.6\n",
      "multipledispatch            0.6.0\n",
      "natsort                     8.4.0\n",
      "numba                       0.58.1\n",
      "numpy                       1.26.3\n",
      "numpyro                     0.13.2\n",
      "opt_einsum                  v3.3.0\n",
      "optax                       0.1.7\n",
      "ordered_set                 4.1.0\n",
      "ott                         0.4.5\n",
      "packaging                   23.2\n",
      "pandas                      2.1.4\n",
      "parso                       0.8.3\n",
      "patsy                       0.5.6\n",
      "pertpy                      0.7.0\n",
      "pexpect                     4.8.0\n",
      "pickleshare                 0.7.5\n",
      "pkg_resources               NA\n",
      "platformdirs                4.1.0\n",
      "ply                         3.11\n",
      "png                         0.20220715.0\n",
      "prompt_toolkit              3.0.42\n",
      "psutil                      5.9.7\n",
      "ptyprocess                  0.7.0\n",
      "pure_eval                   0.2.2\n",
      "pycparser                   2.21\n",
      "pydantic                    2.1.1\n",
      "pydantic_core               2.4.0\n",
      "pydev_ipython               NA\n",
      "pydevconsole                NA\n",
      "pydevd                      2.9.5\n",
      "pydevd_file_utils           NA\n",
      "pydevd_plugins              NA\n",
      "pydevd_tracing              NA\n",
      "pygments                    2.17.2\n",
      "pyomo                       6.7.0\n",
      "pyparsing                   3.1.1\n",
      "pyro                        1.8.6\n",
      "pytorch_lightning           2.1.3\n",
      "pytz                        2023.3.post1\n",
      "referencing                 NA\n",
      "reportlab                   4.0.8\n",
      "requests                    2.31.0\n",
      "rich                        NA\n",
      "rpds                        NA\n",
      "rpy2                        3.5.11\n",
      "scipy                       1.11.4\n",
      "scvi                        1.0.4\n",
      "seaborn                     0.13.1\n",
      "session_info                1.0.0\n",
      "six                         1.16.0\n",
      "sklearn                     1.3.2\n",
      "skmisc                      0.3.1\n",
      "sniffio                     1.3.0\n",
      "soupsieve                   2.5\n",
      "sparse                      0.14.0\n",
      "sparsecca                   0.3.1\n",
      "stack_data                  0.6.2\n",
      "starlette                   0.32.0.post1\n",
      "statannot                   0.2.3\n",
      "statsmodels                 0.14.1\n",
      "sympy                       1.12\n",
      "texttable                   1.7.0\n",
      "threadpoolctl               3.2.0\n",
      "toolz                       0.12.0\n",
      "torch                       2.1.2\n",
      "torchgen                    NA\n",
      "torchmetrics                1.2.1\n",
      "tornado                     6.3.3\n",
      "toyplot                     1.0.3\n",
      "toytree                     2.0.1\n",
      "tqdm                        4.66.1\n",
      "traitlets                   5.14.1\n",
      "tree                        0.1.8\n",
      "typing_extensions           NA\n",
      "tzlocal                     NA\n",
      "urllib3                     2.0.7\n",
      "uvicorn                     0.25.0\n",
      "wcwidth                     0.2.12\n",
      "websocket                   1.7.0\n",
      "websockets                  12.0\n",
      "xarray                      2023.12.0\n",
      "xarray_einstats             0.6.0\n",
      "yaml                        6.0.1\n",
      "yarl                        1.9.4\n",
      "zmq                         25.1.2\n",
      "zoneinfo                    NA\n",
      "-----\n",
      "IPython             8.19.0\n",
      "jupyter_client      8.6.0\n",
      "jupyter_core        5.7.0\n",
      "-----\n",
      "Python 3.10.13 | packaged by conda-forge | (main, Dec 23 2023, 15:35:25) [Clang 16.0.6 ]\n",
      "macOS-14.2.1-arm64-arm-64bit\n",
      "-----\n",
      "Session information updated at 2024-01-08 10:40\n"
     ]
    }
   ],
   "source": [
    "sc.logging.print_versions()"
   ]
  },
  {
   "cell_type": "markdown",
   "metadata": {},
   "source": [
    "Manual git installation of pertpy necessary due to Apple silicon\n",
    "$ git clone https://github.com/theislab/pertpy.git\n",
    "$ cd pertpy\n",
    "$ pip install ."
   ]
  },
  {
   "cell_type": "code",
   "execution_count": 4,
   "metadata": {},
   "outputs": [
    {
     "name": "stdout",
     "output_type": "stream",
     "text": [
      "AnnData object with n_obs × n_vars = 97573 × 27208\n",
      "    obs: 'sex', 'age', 'ethnicity', 'PaCO2', 'donor', 'infection', 'disease', 'SMK', 'illumina_stimunr', 'bd_rhapsody', 'n_genes', 'doublet_scores', 'predicted_doublets', 'batch', 'n_genes_by_counts', 'total_counts', 'total_counts_mt', 'pct_counts_mt', 'total_counts_ribo', 'pct_counts_ribo', 'percent_mt2', 'n_counts', 'percent_chrY', 'XIST-counts', 'S_score', 'G2M_score', 'condition', 'sample_group', 'IAV_score', 'group', 'Viral_score', 'cell_type', 'cell_states', 'leiden', 'cell_compartment', 'seed_labels', '_scvi_batch', '_scvi_labels', 'C_scANVI'\n",
      "    var: 'mt', 'ribo'\n",
      "    obsm: 'X_scANVI', 'X_scVI', 'X_umap'\n"
     ]
    }
   ],
   "source": [
    "adata = sc.read_h5ad(\"Marburg_cell_states_locked_scANVI_ctl230901.raw.h5ad\")\n",
    "print(adata)\n",
    "#adata object created from the annotated h5ad file."
   ]
  },
  {
   "cell_type": "code",
   "execution_count": 5,
   "metadata": {},
   "outputs": [
    {
     "data": {
      "text/html": [
       "<div>\n",
       "<style scoped>\n",
       "    .dataframe tbody tr th:only-of-type {\n",
       "        vertical-align: middle;\n",
       "    }\n",
       "\n",
       "    .dataframe tbody tr th {\n",
       "        vertical-align: top;\n",
       "    }\n",
       "\n",
       "    .dataframe thead th {\n",
       "        text-align: right;\n",
       "    }\n",
       "</style>\n",
       "<table border=\"1\" class=\"dataframe\">\n",
       "  <thead>\n",
       "    <tr style=\"text-align: right;\">\n",
       "      <th></th>\n",
       "      <th>sex</th>\n",
       "      <th>age</th>\n",
       "      <th>ethnicity</th>\n",
       "      <th>PaCO2</th>\n",
       "      <th>donor</th>\n",
       "      <th>infection</th>\n",
       "      <th>disease</th>\n",
       "      <th>SMK</th>\n",
       "      <th>illumina_stimunr</th>\n",
       "      <th>bd_rhapsody</th>\n",
       "      <th>...</th>\n",
       "      <th>group</th>\n",
       "      <th>Viral_score</th>\n",
       "      <th>cell_type</th>\n",
       "      <th>cell_states</th>\n",
       "      <th>leiden</th>\n",
       "      <th>cell_compartment</th>\n",
       "      <th>seed_labels</th>\n",
       "      <th>_scvi_batch</th>\n",
       "      <th>_scvi_labels</th>\n",
       "      <th>C_scANVI</th>\n",
       "    </tr>\n",
       "  </thead>\n",
       "  <tbody>\n",
       "    <tr>\n",
       "      <th>493638-ST07_CSE_CTRL-V1</th>\n",
       "      <td>male</td>\n",
       "      <td>67</td>\n",
       "      <td>caucasian</td>\n",
       "      <td>88.8</td>\n",
       "      <td>GNR-06</td>\n",
       "      <td>CTRL</td>\n",
       "      <td>healthy</td>\n",
       "      <td>7</td>\n",
       "      <td>21_0017</td>\n",
       "      <td>1</td>\n",
       "      <td>...</td>\n",
       "      <td>healthy_ctrl</td>\n",
       "      <td>-0.993291</td>\n",
       "      <td>ciliated</td>\n",
       "      <td>OMG+Ciliated</td>\n",
       "      <td>MultiC_0</td>\n",
       "      <td>Ciliated</td>\n",
       "      <td>Ciliated</td>\n",
       "      <td>0</td>\n",
       "      <td>1</td>\n",
       "      <td>Ciliated</td>\n",
       "    </tr>\n",
       "    <tr>\n",
       "      <th>816750-ST07_CSE_CTRL-V1</th>\n",
       "      <td>male</td>\n",
       "      <td>67</td>\n",
       "      <td>caucasian</td>\n",
       "      <td>88.8</td>\n",
       "      <td>GNR-06</td>\n",
       "      <td>CTRL</td>\n",
       "      <td>healthy</td>\n",
       "      <td>7</td>\n",
       "      <td>21_0017</td>\n",
       "      <td>1</td>\n",
       "      <td>...</td>\n",
       "      <td>healthy_ctrl</td>\n",
       "      <td>-1.685051</td>\n",
       "      <td>ciliated</td>\n",
       "      <td>APOD+Ciliated</td>\n",
       "      <td>MultiC_1</td>\n",
       "      <td>Ciliated</td>\n",
       "      <td>Ciliated</td>\n",
       "      <td>0</td>\n",
       "      <td>1</td>\n",
       "      <td>Ciliated</td>\n",
       "    </tr>\n",
       "    <tr>\n",
       "      <th>678000-ST07_CSE_CTRL-V1</th>\n",
       "      <td>male</td>\n",
       "      <td>67</td>\n",
       "      <td>caucasian</td>\n",
       "      <td>88.8</td>\n",
       "      <td>GNR-06</td>\n",
       "      <td>CTRL</td>\n",
       "      <td>healthy</td>\n",
       "      <td>7</td>\n",
       "      <td>21_0017</td>\n",
       "      <td>1</td>\n",
       "      <td>...</td>\n",
       "      <td>healthy_ctrl</td>\n",
       "      <td>-0.506433</td>\n",
       "      <td>ciliated</td>\n",
       "      <td>TCN1+Club</td>\n",
       "      <td>MultiC_3</td>\n",
       "      <td>Club</td>\n",
       "      <td>Club</td>\n",
       "      <td>0</td>\n",
       "      <td>2</td>\n",
       "      <td>Ciliated</td>\n",
       "    </tr>\n",
       "    <tr>\n",
       "      <th>247802-ST07_CSE_CTRL-V1</th>\n",
       "      <td>male</td>\n",
       "      <td>67</td>\n",
       "      <td>caucasian</td>\n",
       "      <td>88.8</td>\n",
       "      <td>GNR-06</td>\n",
       "      <td>CTRL</td>\n",
       "      <td>healthy</td>\n",
       "      <td>7</td>\n",
       "      <td>21_0017</td>\n",
       "      <td>1</td>\n",
       "      <td>...</td>\n",
       "      <td>healthy_ctrl</td>\n",
       "      <td>-1.299193</td>\n",
       "      <td>ciliated</td>\n",
       "      <td>TCN1+Club</td>\n",
       "      <td>MultiC_3</td>\n",
       "      <td>Club</td>\n",
       "      <td>Club</td>\n",
       "      <td>0</td>\n",
       "      <td>2</td>\n",
       "      <td>Club</td>\n",
       "    </tr>\n",
       "    <tr>\n",
       "      <th>177433-ST07_CSE_CTRL-V1</th>\n",
       "      <td>male</td>\n",
       "      <td>67</td>\n",
       "      <td>caucasian</td>\n",
       "      <td>88.8</td>\n",
       "      <td>GNR-06</td>\n",
       "      <td>CTRL</td>\n",
       "      <td>healthy</td>\n",
       "      <td>7</td>\n",
       "      <td>21_0017</td>\n",
       "      <td>1</td>\n",
       "      <td>...</td>\n",
       "      <td>healthy_ctrl</td>\n",
       "      <td>-1.502644</td>\n",
       "      <td>ciliated</td>\n",
       "      <td>TCN1+Club</td>\n",
       "      <td>MultiC_3</td>\n",
       "      <td>Club</td>\n",
       "      <td>Club</td>\n",
       "      <td>0</td>\n",
       "      <td>2</td>\n",
       "      <td>Club</td>\n",
       "    </tr>\n",
       "    <tr>\n",
       "      <th>...</th>\n",
       "      <td>...</td>\n",
       "      <td>...</td>\n",
       "      <td>...</td>\n",
       "      <td>...</td>\n",
       "      <td>...</td>\n",
       "      <td>...</td>\n",
       "      <td>...</td>\n",
       "      <td>...</td>\n",
       "      <td>...</td>\n",
       "      <td>...</td>\n",
       "      <td>...</td>\n",
       "      <td>...</td>\n",
       "      <td>...</td>\n",
       "      <td>...</td>\n",
       "      <td>...</td>\n",
       "      <td>...</td>\n",
       "      <td>...</td>\n",
       "      <td>...</td>\n",
       "      <td>...</td>\n",
       "      <td>...</td>\n",
       "      <td>...</td>\n",
       "    </tr>\n",
       "    <tr>\n",
       "      <th>2097861-CSE03_IAV-V6</th>\n",
       "      <td>male</td>\n",
       "      <td>66</td>\n",
       "      <td>caucasian</td>\n",
       "      <td>76.8</td>\n",
       "      <td>CSE-03</td>\n",
       "      <td>IAV</td>\n",
       "      <td>COPD</td>\n",
       "      <td>8</td>\n",
       "      <td>21_0507</td>\n",
       "      <td>6</td>\n",
       "      <td>...</td>\n",
       "      <td>copd_iav</td>\n",
       "      <td>-2.114714</td>\n",
       "      <td>mixed</td>\n",
       "      <td>IGFBP6+Basal</td>\n",
       "      <td>Mixed_7</td>\n",
       "      <td>Basal</td>\n",
       "      <td>Basal</td>\n",
       "      <td>0</td>\n",
       "      <td>0</td>\n",
       "      <td>Basal</td>\n",
       "    </tr>\n",
       "    <tr>\n",
       "      <th>7239232-CSE03_IAV-V6</th>\n",
       "      <td>male</td>\n",
       "      <td>66</td>\n",
       "      <td>caucasian</td>\n",
       "      <td>76.8</td>\n",
       "      <td>CSE-03</td>\n",
       "      <td>IAV</td>\n",
       "      <td>COPD</td>\n",
       "      <td>8</td>\n",
       "      <td>21_0507</td>\n",
       "      <td>6</td>\n",
       "      <td>...</td>\n",
       "      <td>copd_iav</td>\n",
       "      <td>-3.002878</td>\n",
       "      <td>mixed</td>\n",
       "      <td>KRT16+SupraB</td>\n",
       "      <td>Mixed_9</td>\n",
       "      <td>SupraB</td>\n",
       "      <td>SupraB</td>\n",
       "      <td>0</td>\n",
       "      <td>8</td>\n",
       "      <td>SupraB</td>\n",
       "    </tr>\n",
       "    <tr>\n",
       "      <th>5330709-CSE03_IAV-V6</th>\n",
       "      <td>male</td>\n",
       "      <td>66</td>\n",
       "      <td>caucasian</td>\n",
       "      <td>76.8</td>\n",
       "      <td>CSE-03</td>\n",
       "      <td>IAV</td>\n",
       "      <td>COPD</td>\n",
       "      <td>8</td>\n",
       "      <td>21_0507</td>\n",
       "      <td>6</td>\n",
       "      <td>...</td>\n",
       "      <td>copd_iav</td>\n",
       "      <td>-2.085706</td>\n",
       "      <td>mixed</td>\n",
       "      <td>KRT16+SupraB</td>\n",
       "      <td>Mixed_9</td>\n",
       "      <td>SupraB</td>\n",
       "      <td>SupraB</td>\n",
       "      <td>0</td>\n",
       "      <td>8</td>\n",
       "      <td>SupraB</td>\n",
       "    </tr>\n",
       "    <tr>\n",
       "      <th>1638545-CSE03_IAV-V6</th>\n",
       "      <td>male</td>\n",
       "      <td>66</td>\n",
       "      <td>caucasian</td>\n",
       "      <td>76.8</td>\n",
       "      <td>CSE-03</td>\n",
       "      <td>IAV</td>\n",
       "      <td>COPD</td>\n",
       "      <td>8</td>\n",
       "      <td>21_0507</td>\n",
       "      <td>6</td>\n",
       "      <td>...</td>\n",
       "      <td>copd_iav</td>\n",
       "      <td>-1.008348</td>\n",
       "      <td>mixed</td>\n",
       "      <td>SERPINE1+Basal</td>\n",
       "      <td>Mixed_3</td>\n",
       "      <td>Basal</td>\n",
       "      <td>Basal</td>\n",
       "      <td>0</td>\n",
       "      <td>0</td>\n",
       "      <td>Basal</td>\n",
       "    </tr>\n",
       "    <tr>\n",
       "      <th>163246-CSE03_IAV-V6</th>\n",
       "      <td>male</td>\n",
       "      <td>66</td>\n",
       "      <td>caucasian</td>\n",
       "      <td>76.8</td>\n",
       "      <td>CSE-03</td>\n",
       "      <td>IAV</td>\n",
       "      <td>COPD</td>\n",
       "      <td>8</td>\n",
       "      <td>21_0507</td>\n",
       "      <td>6</td>\n",
       "      <td>...</td>\n",
       "      <td>copd_iav</td>\n",
       "      <td>-2.329027</td>\n",
       "      <td>mixed</td>\n",
       "      <td>SERPINE1+Basal</td>\n",
       "      <td>Mixed_3</td>\n",
       "      <td>Basal</td>\n",
       "      <td>Basal</td>\n",
       "      <td>0</td>\n",
       "      <td>0</td>\n",
       "      <td>Basal</td>\n",
       "    </tr>\n",
       "  </tbody>\n",
       "</table>\n",
       "<p>97573 rows × 39 columns</p>\n",
       "</div>"
      ],
      "text/plain": [
       "                          sex age  ethnicity PaCO2   donor infection  disease  \\\n",
       "493638-ST07_CSE_CTRL-V1  male  67  caucasian  88.8  GNR-06      CTRL  healthy   \n",
       "816750-ST07_CSE_CTRL-V1  male  67  caucasian  88.8  GNR-06      CTRL  healthy   \n",
       "678000-ST07_CSE_CTRL-V1  male  67  caucasian  88.8  GNR-06      CTRL  healthy   \n",
       "247802-ST07_CSE_CTRL-V1  male  67  caucasian  88.8  GNR-06      CTRL  healthy   \n",
       "177433-ST07_CSE_CTRL-V1  male  67  caucasian  88.8  GNR-06      CTRL  healthy   \n",
       "...                       ...  ..        ...   ...     ...       ...      ...   \n",
       "2097861-CSE03_IAV-V6     male  66  caucasian  76.8  CSE-03       IAV     COPD   \n",
       "7239232-CSE03_IAV-V6     male  66  caucasian  76.8  CSE-03       IAV     COPD   \n",
       "5330709-CSE03_IAV-V6     male  66  caucasian  76.8  CSE-03       IAV     COPD   \n",
       "1638545-CSE03_IAV-V6     male  66  caucasian  76.8  CSE-03       IAV     COPD   \n",
       "163246-CSE03_IAV-V6      male  66  caucasian  76.8  CSE-03       IAV     COPD   \n",
       "\n",
       "                        SMK illumina_stimunr bd_rhapsody  ...         group  \\\n",
       "493638-ST07_CSE_CTRL-V1   7          21_0017           1  ...  healthy_ctrl   \n",
       "816750-ST07_CSE_CTRL-V1   7          21_0017           1  ...  healthy_ctrl   \n",
       "678000-ST07_CSE_CTRL-V1   7          21_0017           1  ...  healthy_ctrl   \n",
       "247802-ST07_CSE_CTRL-V1   7          21_0017           1  ...  healthy_ctrl   \n",
       "177433-ST07_CSE_CTRL-V1   7          21_0017           1  ...  healthy_ctrl   \n",
       "...                      ..              ...         ...  ...           ...   \n",
       "2097861-CSE03_IAV-V6      8          21_0507           6  ...      copd_iav   \n",
       "7239232-CSE03_IAV-V6      8          21_0507           6  ...      copd_iav   \n",
       "5330709-CSE03_IAV-V6      8          21_0507           6  ...      copd_iav   \n",
       "1638545-CSE03_IAV-V6      8          21_0507           6  ...      copd_iav   \n",
       "163246-CSE03_IAV-V6       8          21_0507           6  ...      copd_iav   \n",
       "\n",
       "                         Viral_score  cell_type     cell_states    leiden  \\\n",
       "493638-ST07_CSE_CTRL-V1    -0.993291   ciliated    OMG+Ciliated  MultiC_0   \n",
       "816750-ST07_CSE_CTRL-V1    -1.685051   ciliated   APOD+Ciliated  MultiC_1   \n",
       "678000-ST07_CSE_CTRL-V1    -0.506433   ciliated       TCN1+Club  MultiC_3   \n",
       "247802-ST07_CSE_CTRL-V1    -1.299193   ciliated       TCN1+Club  MultiC_3   \n",
       "177433-ST07_CSE_CTRL-V1    -1.502644   ciliated       TCN1+Club  MultiC_3   \n",
       "...                              ...        ...             ...       ...   \n",
       "2097861-CSE03_IAV-V6       -2.114714      mixed    IGFBP6+Basal   Mixed_7   \n",
       "7239232-CSE03_IAV-V6       -3.002878      mixed    KRT16+SupraB   Mixed_9   \n",
       "5330709-CSE03_IAV-V6       -2.085706      mixed    KRT16+SupraB   Mixed_9   \n",
       "1638545-CSE03_IAV-V6       -1.008348      mixed  SERPINE1+Basal   Mixed_3   \n",
       "163246-CSE03_IAV-V6        -2.329027      mixed  SERPINE1+Basal   Mixed_3   \n",
       "\n",
       "                         cell_compartment  seed_labels  _scvi_batch  \\\n",
       "493638-ST07_CSE_CTRL-V1          Ciliated     Ciliated            0   \n",
       "816750-ST07_CSE_CTRL-V1          Ciliated     Ciliated            0   \n",
       "678000-ST07_CSE_CTRL-V1              Club         Club            0   \n",
       "247802-ST07_CSE_CTRL-V1              Club         Club            0   \n",
       "177433-ST07_CSE_CTRL-V1              Club         Club            0   \n",
       "...                                   ...          ...          ...   \n",
       "2097861-CSE03_IAV-V6                Basal        Basal            0   \n",
       "7239232-CSE03_IAV-V6               SupraB       SupraB            0   \n",
       "5330709-CSE03_IAV-V6               SupraB       SupraB            0   \n",
       "1638545-CSE03_IAV-V6                Basal        Basal            0   \n",
       "163246-CSE03_IAV-V6                 Basal        Basal            0   \n",
       "\n",
       "                         _scvi_labels  C_scANVI  \n",
       "493638-ST07_CSE_CTRL-V1             1  Ciliated  \n",
       "816750-ST07_CSE_CTRL-V1             1  Ciliated  \n",
       "678000-ST07_CSE_CTRL-V1             2  Ciliated  \n",
       "247802-ST07_CSE_CTRL-V1             2      Club  \n",
       "177433-ST07_CSE_CTRL-V1             2      Club  \n",
       "...                               ...       ...  \n",
       "2097861-CSE03_IAV-V6                0     Basal  \n",
       "7239232-CSE03_IAV-V6                8    SupraB  \n",
       "5330709-CSE03_IAV-V6                8    SupraB  \n",
       "1638545-CSE03_IAV-V6                0     Basal  \n",
       "163246-CSE03_IAV-V6                 0     Basal  \n",
       "\n",
       "[97573 rows x 39 columns]"
      ]
     },
     "execution_count": 5,
     "metadata": {},
     "output_type": "execute_result"
    }
   ],
   "source": [
    "adata.obs"
   ]
  },
  {
   "cell_type": "code",
   "execution_count": 6,
   "metadata": {},
   "outputs": [
    {
     "data": {
      "text/plain": [
       "Index(['healthy_ctrl', 'healthy_iav', 'copd_ctrl', 'copd_iav'], dtype='object')"
      ]
     },
     "execution_count": 6,
     "metadata": {},
     "output_type": "execute_result"
    }
   ],
   "source": [
    "#adata.obs[\"infectionANDdisease\"] = adata.obs[\"infection\"].str.cat(adata.obs[\"disease\"], sep = \"&\")\n",
    "adata.obs\n",
    "adata.obs[\"group\"].cat.categories\n",
    "#creating a new obs based on adding obs infection and obs disease --> CTRL&COPD, IAV&COPD, CTRL&healthy, IAV&healthy"
   ]
  },
  {
   "cell_type": "code",
   "execution_count": 7,
   "metadata": {},
   "outputs": [
    {
     "data": {
      "text/plain": [
       "493638-ST07_CSE_CTRL-V1    Ciliated\n",
       "816750-ST07_CSE_CTRL-V1    Ciliated\n",
       "678000-ST07_CSE_CTRL-V1        Club\n",
       "247802-ST07_CSE_CTRL-V1        Club\n",
       "177433-ST07_CSE_CTRL-V1        Club\n",
       "                             ...   \n",
       "2097861-CSE03_IAV-V6          Basal\n",
       "7239232-CSE03_IAV-V6         SupraB\n",
       "5330709-CSE03_IAV-V6         SupraB\n",
       "1638545-CSE03_IAV-V6          Basal\n",
       "163246-CSE03_IAV-V6           Basal\n",
       "Name: cell_compartment, Length: 97573, dtype: category\n",
       "Categories (10, object): ['Basal', 'Ciliated', 'Club', 'Deuterosomal', ..., 'Ionocyte', 'Secretory', 'SupraB', 'Unknown']"
      ]
     },
     "execution_count": 7,
     "metadata": {},
     "output_type": "execute_result"
    }
   ],
   "source": [
    "adata.obs[\"cell_compartment\"]\n",
    "#adata.obs[\"cell_compartment\"].cat.categories\n"
   ]
  },
  {
   "cell_type": "code",
   "execution_count": 8,
   "metadata": {},
   "outputs": [
    {
     "data": {
      "text/plain": [
       "Index(['APOD+Ciliated', 'IGFBP6+Basal', 'SERPINE1+Basal', 'SERPINE2+Basal',\n",
       "       'CCDC3+Basal1', 'DHRS9+Club', 'FB-like_Basal', 'IGFBP+Basal',\n",
       "       'ImmuneClub', 'Ionocyte', 'KRT14+AQP1+Secretory', 'KRT14+Goblet',\n",
       "       'KRT17+Goblet', 'MHCII+Club', 'MKI67+pBasal', 'MUC5B+Goblet',\n",
       "       'NOTCH+Basal2', 'NOTCH3+SupraB', 'OASiav_Ciliated', 'OMG+Ciliated',\n",
       "       'RARRES1+lip_Goblet', 'S100A2+Basal', 'SCGB1+KRT5-FOXA1+iav_Club',\n",
       "       'SCGB1A1+Deutero', 'SCGB1A1+Goblet', 'KRT16+SupraB', 'TCN1+Club',\n",
       "       'TNC+Basal', 'iavAPC_Epi', 'iav-lip_Club', 'iav_Goblet', 'ifn_Basal',\n",
       "       'ifn_Goblet', 'mixed_Goblet1', 'mixed_Goblet2', 'p53_Ciliated'],\n",
       "      dtype='object')"
      ]
     },
     "execution_count": 8,
     "metadata": {},
     "output_type": "execute_result"
    }
   ],
   "source": [
    "adata.obs[\"cell_states\"].cat.categories"
   ]
  },
  {
   "cell_type": "markdown",
   "metadata": {},
   "source": [
    "create notebook for every compartment and compare across cell states\n",
    "visualization improvement\n",
    "reference to ctrl healthy"
   ]
  },
  {
   "cell_type": "code",
   "execution_count": 9,
   "metadata": {},
   "outputs": [
    {
     "data": {
      "text/html": [
       "<pre>MuData object with n_obs × n_vars = 97597 × 27218\n",
       "  2 modalities\n",
       "    rna:\t97573 x 27208\n",
       "      obs:\t&#x27;sex&#x27;, &#x27;age&#x27;, &#x27;ethnicity&#x27;, &#x27;PaCO2&#x27;, &#x27;donor&#x27;, &#x27;infection&#x27;, &#x27;disease&#x27;, &#x27;SMK&#x27;, &#x27;illumina_stimunr&#x27;, &#x27;bd_rhapsody&#x27;, &#x27;n_genes&#x27;, &#x27;doublet_scores&#x27;, &#x27;predicted_doublets&#x27;, &#x27;batch&#x27;, &#x27;n_genes_by_counts&#x27;, &#x27;total_counts&#x27;, &#x27;total_counts_mt&#x27;, &#x27;pct_counts_mt&#x27;, &#x27;total_counts_ribo&#x27;, &#x27;pct_counts_ribo&#x27;, &#x27;percent_mt2&#x27;, &#x27;n_counts&#x27;, &#x27;percent_chrY&#x27;, &#x27;XIST-counts&#x27;, &#x27;S_score&#x27;, &#x27;G2M_score&#x27;, &#x27;condition&#x27;, &#x27;sample_group&#x27;, &#x27;IAV_score&#x27;, &#x27;group&#x27;, &#x27;Viral_score&#x27;, &#x27;cell_type&#x27;, &#x27;cell_states&#x27;, &#x27;leiden&#x27;, &#x27;cell_compartment&#x27;, &#x27;seed_labels&#x27;, &#x27;_scvi_batch&#x27;, &#x27;_scvi_labels&#x27;, &#x27;C_scANVI&#x27;, &#x27;scCODA_sample_id&#x27;\n",
       "      var:\t&#x27;mt&#x27;, &#x27;ribo&#x27;\n",
       "      obsm:\t&#x27;X_scANVI&#x27;, &#x27;X_scVI&#x27;, &#x27;X_umap&#x27;\n",
       "    coda:\t24 x 10\n",
       "      obs:\t&#x27;infection&#x27;, &#x27;disease&#x27;, &#x27;group&#x27;, &#x27;batch&#x27;\n",
       "      var:\t&#x27;n_cells&#x27;</pre>"
      ],
      "text/plain": [
       "MuData object with n_obs × n_vars = 97597 × 27218\n",
       "  2 modalities\n",
       "    rna:\t97573 x 27208\n",
       "      obs:\t'sex', 'age', 'ethnicity', 'PaCO2', 'donor', 'infection', 'disease', 'SMK', 'illumina_stimunr', 'bd_rhapsody', 'n_genes', 'doublet_scores', 'predicted_doublets', 'batch', 'n_genes_by_counts', 'total_counts', 'total_counts_mt', 'pct_counts_mt', 'total_counts_ribo', 'pct_counts_ribo', 'percent_mt2', 'n_counts', 'percent_chrY', 'XIST-counts', 'S_score', 'G2M_score', 'condition', 'sample_group', 'IAV_score', 'group', 'Viral_score', 'cell_type', 'cell_states', 'leiden', 'cell_compartment', 'seed_labels', '_scvi_batch', '_scvi_labels', 'C_scANVI', 'scCODA_sample_id'\n",
       "      var:\t'mt', 'ribo'\n",
       "      obsm:\t'X_scANVI', 'X_scVI', 'X_umap'\n",
       "    coda:\t24 x 10\n",
       "      obs:\t'infection', 'disease', 'group', 'batch'\n",
       "      var:\t'n_cells'"
      ]
     },
     "execution_count": 9,
     "metadata": {},
     "output_type": "execute_result"
    }
   ],
   "source": [
    "sccoda_model = pt.tl.Sccoda()\n",
    "sccoda_data = sccoda_model.load(\n",
    "    adata,\n",
    "    type=\"cell_level\",\n",
    "    generate_sample_level=True,\n",
    "    cell_type_identifier=\"cell_compartment\",\n",
    "    sample_identifier=\"batch\",\n",
    "    covariate_obs=[\"infection\", \"disease\", \"group\"],\n",
    ")\n",
    "sccoda_data"
   ]
  },
  {
   "cell_type": "code",
   "execution_count": 10,
   "metadata": {},
   "outputs": [
    {
     "data": {
      "image/png": "[encoded data removed]",
      "text/plain": [
       "<Figure size 1200x500 with 1 Axes>"
      ]
     },
     "metadata": {},
     "output_type": "display_data"
    }
   ],
   "source": [
    "pt.pl.coda.boxplots(\n",
    "    sccoda_data,\n",
    "    modality_key=\"coda\",\n",
    "    feature_name=\"group\",\n",
    "    y_scale=\"count\",\n",
    "    figsize=(12, 5),\n",
    "    add_dots=True,\n",
    "    args_swarmplot={\"palette\": [\"red\"]},\n",
    ")\n",
    "plt.show()"
   ]
  },
  {
   "cell_type": "code",
   "execution_count": 11,
   "metadata": {},
   "outputs": [
    {
     "data": {
      "image/png": "[encoded data removed]",
      "text/plain": [
       "<Figure size 400x200 with 1 Axes>"
      ]
     },
     "metadata": {},
     "output_type": "display_data"
    }
   ],
   "source": [
    "pt.pl.coda.stacked_barplot(\n",
    "    sccoda_data, modality_key=\"coda\", feature_name=\"group\", figsize=(4, 2)\n",
    ")\n",
    "plt.show()"
   ]
  },
  {
   "cell_type": "markdown",
   "metadata": {},
   "source": [
    "## 11.12.23"
   ]
  },
  {
   "cell_type": "markdown",
   "metadata": {},
   "source": [
    "Function sccoda.run_nuts() broken at the moment\n",
    "https://github.com/theislab/pertpy/issues/454\n",
    "Downgrading Jax didn't solve the issue for me."
   ]
  },
  {
   "cell_type": "markdown",
   "metadata": {},
   "source": [
    "--> solution: completely new environment, install jax=0.4.20 prior to installing pertpy"
   ]
  },
  {
   "cell_type": "code",
   "execution_count": 12,
   "metadata": {},
   "outputs": [
    {
     "data": {
      "text/html": [
       "<pre style=\"white-space:pre;overflow-x:auto;line-height:normal;font-family:Menlo,'DejaVu Sans Mono',consolas,'Courier New',monospace\"><span style=\"color: #000080; text-decoration-color: #000080; font-weight: bold\">Automatic reference selection! Reference cell type set to Unknown</span>\n",
       "</pre>\n"
      ],
      "text/plain": [
       "\u001b[1;34mAutomatic reference selection! Reference cell type set to Unknown\u001b[0m\n"
      ]
     },
     "metadata": {},
     "output_type": "display_data"
    },
    {
     "data": {
      "text/html": [
       "<pre style=\"white-space:pre;overflow-x:auto;line-height:normal;font-family:Menlo,'DejaVu Sans Mono',consolas,'Courier New',monospace\">Zero counts encountered in data! Added a pseudocount of <span style=\"color: #008080; text-decoration-color: #008080; font-weight: bold\">0.5</span>.\n",
       "</pre>\n"
      ],
      "text/plain": [
       "Zero counts encountered in data! Added a pseudocount of \u001b[1;36m0.5\u001b[0m.\n"
      ]
     },
     "metadata": {},
     "output_type": "display_data"
    },
    {
     "name": "stderr",
     "output_type": "stream",
     "text": [
      "sample: 100%|██████████| 11000/11000 [00:43<00:00, 251.84it/s, 255 steps of size 2.37e-02. acc. prob=0.79]\n"
     ]
    }
   ],
   "source": [
    "sccoda_data = sccoda_model.prepare(\n",
    "    sccoda_data,\n",
    "    modality_key=\"coda\",\n",
    "    formula=\"infection\",\n",
    "    reference_cell_type=\"automatic\",\n",
    ")\n",
    "sccoda_model.run_nuts(sccoda_data, modality_key=\"coda\", rng_key=1234)"
   ]
  },
  {
   "cell_type": "code",
   "execution_count": 13,
   "metadata": {},
   "outputs": [
    {
     "data": {
      "text/html": [
       "<pre>MuData object with n_obs × n_vars = 97597 × 27218\n",
       "  2 modalities\n",
       "    rna:\t97573 x 27208\n",
       "      obs:\t&#x27;sex&#x27;, &#x27;age&#x27;, &#x27;ethnicity&#x27;, &#x27;PaCO2&#x27;, &#x27;donor&#x27;, &#x27;infection&#x27;, &#x27;disease&#x27;, &#x27;SMK&#x27;, &#x27;illumina_stimunr&#x27;, &#x27;bd_rhapsody&#x27;, &#x27;n_genes&#x27;, &#x27;doublet_scores&#x27;, &#x27;predicted_doublets&#x27;, &#x27;batch&#x27;, &#x27;n_genes_by_counts&#x27;, &#x27;total_counts&#x27;, &#x27;total_counts_mt&#x27;, &#x27;pct_counts_mt&#x27;, &#x27;total_counts_ribo&#x27;, &#x27;pct_counts_ribo&#x27;, &#x27;percent_mt2&#x27;, &#x27;n_counts&#x27;, &#x27;percent_chrY&#x27;, &#x27;XIST-counts&#x27;, &#x27;S_score&#x27;, &#x27;G2M_score&#x27;, &#x27;condition&#x27;, &#x27;sample_group&#x27;, &#x27;IAV_score&#x27;, &#x27;group&#x27;, &#x27;Viral_score&#x27;, &#x27;cell_type&#x27;, &#x27;cell_states&#x27;, &#x27;leiden&#x27;, &#x27;cell_compartment&#x27;, &#x27;seed_labels&#x27;, &#x27;_scvi_batch&#x27;, &#x27;_scvi_labels&#x27;, &#x27;C_scANVI&#x27;, &#x27;scCODA_sample_id&#x27;\n",
       "      var:\t&#x27;mt&#x27;, &#x27;ribo&#x27;\n",
       "      obsm:\t&#x27;X_scANVI&#x27;, &#x27;X_scVI&#x27;, &#x27;X_umap&#x27;\n",
       "    coda:\t24 x 10\n",
       "      obs:\t&#x27;infection&#x27;, &#x27;disease&#x27;, &#x27;group&#x27;, &#x27;batch&#x27;\n",
       "      var:\t&#x27;n_cells&#x27;\n",
       "      uns:\t&#x27;scCODA_params&#x27;\n",
       "      obsm:\t&#x27;covariate_matrix&#x27;, &#x27;sample_counts&#x27;\n",
       "      varm:\t&#x27;intercept_df&#x27;, &#x27;effect_df_infection[T.IAV]&#x27;</pre>"
      ],
      "text/plain": [
       "MuData object with n_obs × n_vars = 97597 × 27218\n",
       "  2 modalities\n",
       "    rna:\t97573 x 27208\n",
       "      obs:\t'sex', 'age', 'ethnicity', 'PaCO2', 'donor', 'infection', 'disease', 'SMK', 'illumina_stimunr', 'bd_rhapsody', 'n_genes', 'doublet_scores', 'predicted_doublets', 'batch', 'n_genes_by_counts', 'total_counts', 'total_counts_mt', 'pct_counts_mt', 'total_counts_ribo', 'pct_counts_ribo', 'percent_mt2', 'n_counts', 'percent_chrY', 'XIST-counts', 'S_score', 'G2M_score', 'condition', 'sample_group', 'IAV_score', 'group', 'Viral_score', 'cell_type', 'cell_states', 'leiden', 'cell_compartment', 'seed_labels', '_scvi_batch', '_scvi_labels', 'C_scANVI', 'scCODA_sample_id'\n",
       "      var:\t'mt', 'ribo'\n",
       "      obsm:\t'X_scANVI', 'X_scVI', 'X_umap'\n",
       "    coda:\t24 x 10\n",
       "      obs:\t'infection', 'disease', 'group', 'batch'\n",
       "      var:\t'n_cells'\n",
       "      uns:\t'scCODA_params'\n",
       "      obsm:\t'covariate_matrix', 'sample_counts'\n",
       "      varm:\t'intercept_df', 'effect_df_infection[T.IAV]'"
      ]
     },
     "execution_count": 13,
     "metadata": {},
     "output_type": "execute_result"
    }
   ],
   "source": [
    "sccoda_data"
   ]
  },
  {
   "cell_type": "code",
   "execution_count": 14,
   "metadata": {},
   "outputs": [],
   "source": [
    "sccoda_model.set_fdr(sccoda_data, 0.2)"
   ]
  },
  {
   "cell_type": "code",
   "execution_count": 15,
   "metadata": {},
   "outputs": [
    {
     "data": {
      "text/plain": [
       "Covariate         Cell Type   \n",
       "infection[T.IAV]  Basal           False\n",
       "                  Ciliated        False\n",
       "                  Club             True\n",
       "                  Deuterosomal    False\n",
       "                  Epi              True\n",
       "                  Goblet           True\n",
       "                  Ionocyte        False\n",
       "                  Secretory        True\n",
       "                  SupraB          False\n",
       "                  Unknown         False\n",
       "Name: Final Parameter, dtype: bool"
      ]
     },
     "execution_count": 15,
     "metadata": {},
     "output_type": "execute_result"
    }
   ],
   "source": [
    "sccoda_model.credible_effects(sccoda_data, modality_key=\"coda\")"
   ]
  },
  {
   "cell_type": "code",
   "execution_count": 16,
   "metadata": {},
   "outputs": [
    {
     "data": {
      "text/html": [
       "<div>\n",
       "<style scoped>\n",
       "    .dataframe tbody tr th:only-of-type {\n",
       "        vertical-align: middle;\n",
       "    }\n",
       "\n",
       "    .dataframe tbody tr th {\n",
       "        vertical-align: top;\n",
       "    }\n",
       "\n",
       "    .dataframe thead th {\n",
       "        text-align: right;\n",
       "    }\n",
       "</style>\n",
       "<table border=\"1\" class=\"dataframe\">\n",
       "  <thead>\n",
       "    <tr style=\"text-align: right;\">\n",
       "      <th></th>\n",
       "      <th>Final Parameter</th>\n",
       "      <th>HDI 3%</th>\n",
       "      <th>HDI 97%</th>\n",
       "      <th>SD</th>\n",
       "      <th>Inclusion probability</th>\n",
       "      <th>Expected Sample</th>\n",
       "      <th>log2-fold change</th>\n",
       "    </tr>\n",
       "    <tr>\n",
       "      <th>Cell Type</th>\n",
       "      <th></th>\n",
       "      <th></th>\n",
       "      <th></th>\n",
       "      <th></th>\n",
       "      <th></th>\n",
       "      <th></th>\n",
       "      <th></th>\n",
       "    </tr>\n",
       "  </thead>\n",
       "  <tbody>\n",
       "    <tr>\n",
       "      <th>Basal</th>\n",
       "      <td>0.000000</td>\n",
       "      <td>-0.320</td>\n",
       "      <td>0.237</td>\n",
       "      <td>0.074</td>\n",
       "      <td>0.2311</td>\n",
       "      <td>1690.139869</td>\n",
       "      <td>0.232494</td>\n",
       "    </tr>\n",
       "    <tr>\n",
       "      <th>Ciliated</th>\n",
       "      <td>0.000000</td>\n",
       "      <td>-0.582</td>\n",
       "      <td>0.388</td>\n",
       "      <td>0.149</td>\n",
       "      <td>0.3094</td>\n",
       "      <td>156.110887</td>\n",
       "      <td>0.232494</td>\n",
       "    </tr>\n",
       "    <tr>\n",
       "      <th>Club</th>\n",
       "      <td>0.817029</td>\n",
       "      <td>0.390</td>\n",
       "      <td>1.269</td>\n",
       "      <td>0.242</td>\n",
       "      <td>0.9906</td>\n",
       "      <td>528.263877</td>\n",
       "      <td>1.411218</td>\n",
       "    </tr>\n",
       "    <tr>\n",
       "      <th>Deuterosomal</th>\n",
       "      <td>0.000000</td>\n",
       "      <td>-0.891</td>\n",
       "      <td>0.334</td>\n",
       "      <td>0.239</td>\n",
       "      <td>0.4014</td>\n",
       "      <td>54.465451</td>\n",
       "      <td>0.232494</td>\n",
       "    </tr>\n",
       "    <tr>\n",
       "      <th>Epi</th>\n",
       "      <td>1.250430</td>\n",
       "      <td>0.580</td>\n",
       "      <td>1.984</td>\n",
       "      <td>0.379</td>\n",
       "      <td>0.9938</td>\n",
       "      <td>109.727071</td>\n",
       "      <td>2.036483</td>\n",
       "    </tr>\n",
       "    <tr>\n",
       "      <th>Goblet</th>\n",
       "      <td>-0.976361</td>\n",
       "      <td>-1.294</td>\n",
       "      <td>-0.650</td>\n",
       "      <td>0.166</td>\n",
       "      <td>1.0000</td>\n",
       "      <td>624.034709</td>\n",
       "      <td>-1.176096</td>\n",
       "    </tr>\n",
       "    <tr>\n",
       "      <th>Ionocyte</th>\n",
       "      <td>0.000000</td>\n",
       "      <td>-0.629</td>\n",
       "      <td>0.533</td>\n",
       "      <td>0.180</td>\n",
       "      <td>0.3364</td>\n",
       "      <td>64.881762</td>\n",
       "      <td>0.232494</td>\n",
       "    </tr>\n",
       "    <tr>\n",
       "      <th>Secretory</th>\n",
       "      <td>-0.399386</td>\n",
       "      <td>-0.950</td>\n",
       "      <td>0.103</td>\n",
       "      <td>0.298</td>\n",
       "      <td>0.5395</td>\n",
       "      <td>104.918124</td>\n",
       "      <td>-0.343698</td>\n",
       "    </tr>\n",
       "    <tr>\n",
       "      <th>SupraB</th>\n",
       "      <td>0.000000</td>\n",
       "      <td>-0.478</td>\n",
       "      <td>0.241</td>\n",
       "      <td>0.112</td>\n",
       "      <td>0.2912</td>\n",
       "      <td>459.237069</td>\n",
       "      <td>0.232494</td>\n",
       "    </tr>\n",
       "    <tr>\n",
       "      <th>Unknown</th>\n",
       "      <td>0.000000</td>\n",
       "      <td>0.000</td>\n",
       "      <td>0.000</td>\n",
       "      <td>0.000</td>\n",
       "      <td>0.0000</td>\n",
       "      <td>273.846181</td>\n",
       "      <td>0.232494</td>\n",
       "    </tr>\n",
       "  </tbody>\n",
       "</table>\n",
       "</div>"
      ],
      "text/plain": [
       "              Final Parameter  HDI 3%  HDI 97%     SD  Inclusion probability  \\\n",
       "Cell Type                                                                      \n",
       "Basal                0.000000  -0.320    0.237  0.074                 0.2311   \n",
       "Ciliated             0.000000  -0.582    0.388  0.149                 0.3094   \n",
       "Club                 0.817029   0.390    1.269  0.242                 0.9906   \n",
       "Deuterosomal         0.000000  -0.891    0.334  0.239                 0.4014   \n",
       "Epi                  1.250430   0.580    1.984  0.379                 0.9938   \n",
       "Goblet              -0.976361  -1.294   -0.650  0.166                 1.0000   \n",
       "Ionocyte             0.000000  -0.629    0.533  0.180                 0.3364   \n",
       "Secretory           -0.399386  -0.950    0.103  0.298                 0.5395   \n",
       "SupraB               0.000000  -0.478    0.241  0.112                 0.2912   \n",
       "Unknown              0.000000   0.000    0.000  0.000                 0.0000   \n",
       "\n",
       "              Expected Sample  log2-fold change  \n",
       "Cell Type                                        \n",
       "Basal             1690.139869          0.232494  \n",
       "Ciliated           156.110887          0.232494  \n",
       "Club               528.263877          1.411218  \n",
       "Deuterosomal        54.465451          0.232494  \n",
       "Epi                109.727071          2.036483  \n",
       "Goblet             624.034709         -1.176096  \n",
       "Ionocyte            64.881762          0.232494  \n",
       "Secretory          104.918124         -0.343698  \n",
       "SupraB             459.237069          0.232494  \n",
       "Unknown            273.846181          0.232494  "
      ]
     },
     "execution_count": 16,
     "metadata": {},
     "output_type": "execute_result"
    }
   ],
   "source": [
    "sccoda_data[\"coda\"].varm[\"effect_df_infection[T.IAV]\"]"
   ]
  },
  {
   "cell_type": "code",
   "execution_count": 17,
   "metadata": {},
   "outputs": [
    {
     "data": {
      "text/plain": [
       "<Axes: xlabel='Cell Type', ylabel='log2-fold change'>"
      ]
     },
     "execution_count": 17,
     "metadata": {},
     "output_type": "execute_result"
    },
    {
     "data": {
      "image/png": "[encoded data removed]",
      "text/plain": [
       "<Figure size 640x480 with 1 Axes>"
      ]
     },
     "metadata": {},
     "output_type": "display_data"
    }
   ],
   "source": [
    "sns.barplot(data=sccoda_data[\"coda\"].varm[\"effect_df_infection[T.IAV]\"], x=\"Cell Type\", y=\"log2-fold change\", hue=\"Cell Type\")"
   ]
  },
  {
   "cell_type": "code",
   "execution_count": 56,
   "metadata": {},
   "outputs": [
    {
     "ename": "ValueError",
     "evalue": "Number of columns must be a positive integer, not 0",
     "output_type": "error",
     "traceback": [
      "\u001b[0;31m---------------------------------------------------------------------------\u001b[0m",
      "\u001b[0;31mValueError\u001b[0m                                Traceback (most recent call last)",
      "\u001b[1;32m/Users/egerc/Documents/COPD/Comp_analysis_test/ScCoda_COPD copy.ipynb Cell 24\u001b[0m line \u001b[0;36m1\n\u001b[0;32m----> <a href='vscode-notebook-cell:/Users/egerc/Documents/COPD/Comp_analysis_test/ScCoda_COPD%20copy.ipynb#X35sZmlsZQ%3D%3D?line=0'>1</a>\u001b[0m pt\u001b[39m.\u001b[39;49mpl\u001b[39m.\u001b[39;49mcoda\u001b[39m.\u001b[39;49meffects_barplot(sccoda_data, \u001b[39m\"\u001b[39;49m\u001b[39mcoda\u001b[39;49m\u001b[39m\"\u001b[39;49m, \u001b[39m\"\u001b[39;49m\u001b[39mdisease\u001b[39;49m\u001b[39m\"\u001b[39;49m)\n\u001b[1;32m      <a href='vscode-notebook-cell:/Users/egerc/Documents/COPD/Comp_analysis_test/ScCoda_COPD%20copy.ipynb#X35sZmlsZQ%3D%3D?line=1'>2</a>\u001b[0m plt\u001b[39m.\u001b[39mshow()\n",
      "File \u001b[0;32m/opt/homebrew/Caskroom/miniforge/base/envs/sccoda-env/lib/python3.10/site-packages/pertpy/plot/_coda.py:287\u001b[0m, in \u001b[0;36mCodaPlot.effects_barplot\u001b[0;34m(data, modality_key, covariates, parameter, plot_facets, plot_zero_covariate, plot_zero_cell_type, figsize, dpi, cmap, level_order, args_barplot)\u001b[0m\n\u001b[1;32m    284\u001b[0m     height \u001b[39m=\u001b[39m \u001b[39m3\u001b[39m\n\u001b[1;32m    285\u001b[0m     aspect \u001b[39m=\u001b[39m \u001b[39m2\u001b[39m\n\u001b[0;32m--> 287\u001b[0m g \u001b[39m=\u001b[39m sns\u001b[39m.\u001b[39;49mFacetGrid(\n\u001b[1;32m    288\u001b[0m     plot_df,\n\u001b[1;32m    289\u001b[0m     col\u001b[39m=\u001b[39;49m\u001b[39m\"\u001b[39;49m\u001b[39mCovariate\u001b[39;49m\u001b[39m\"\u001b[39;49m,\n\u001b[1;32m    290\u001b[0m     sharey\u001b[39m=\u001b[39;49m\u001b[39mTrue\u001b[39;49;00m,\n\u001b[1;32m    291\u001b[0m     sharex\u001b[39m=\u001b[39;49m\u001b[39mFalse\u001b[39;49;00m,\n\u001b[1;32m    292\u001b[0m     height\u001b[39m=\u001b[39;49mheight,\n\u001b[1;32m    293\u001b[0m     aspect\u001b[39m=\u001b[39;49maspect,\n\u001b[1;32m    294\u001b[0m )\n\u001b[1;32m    296\u001b[0m g\u001b[39m.\u001b[39mmap(\n\u001b[1;32m    297\u001b[0m     sns\u001b[39m.\u001b[39mbarplot,\n\u001b[1;32m    298\u001b[0m     \u001b[39m\"\u001b[39m\u001b[39mCell Type\u001b[39m\u001b[39m\"\u001b[39m,\n\u001b[0;32m   (...)\u001b[0m\n\u001b[1;32m    302\u001b[0m     \u001b[39m*\u001b[39m\u001b[39m*\u001b[39margs_barplot,\n\u001b[1;32m    303\u001b[0m )\n\u001b[1;32m    304\u001b[0m g\u001b[39m.\u001b[39mset_xticklabels(rotation\u001b[39m=\u001b[39m\u001b[39m90\u001b[39m)\n",
      "File \u001b[0;32m/opt/homebrew/Caskroom/miniforge/base/envs/sccoda-env/lib/python3.10/site-packages/seaborn/axisgrid.py:462\u001b[0m, in \u001b[0;36mFacetGrid.__init__\u001b[0;34m(self, data, row, col, hue, col_wrap, sharex, sharey, height, aspect, palette, row_order, col_order, hue_order, hue_kws, dropna, legend_out, despine, margin_titles, xlim, ylim, subplot_kws, gridspec_kws)\u001b[0m\n\u001b[1;32m    455\u001b[0m \u001b[39mif\u001b[39;00m col_wrap \u001b[39mis\u001b[39;00m \u001b[39mNone\u001b[39;00m:\n\u001b[1;32m    457\u001b[0m     kwargs \u001b[39m=\u001b[39m \u001b[39mdict\u001b[39m(squeeze\u001b[39m=\u001b[39m\u001b[39mFalse\u001b[39;00m,\n\u001b[1;32m    458\u001b[0m                   sharex\u001b[39m=\u001b[39msharex, sharey\u001b[39m=\u001b[39msharey,\n\u001b[1;32m    459\u001b[0m                   subplot_kw\u001b[39m=\u001b[39msubplot_kws,\n\u001b[1;32m    460\u001b[0m                   gridspec_kw\u001b[39m=\u001b[39mgridspec_kws)\n\u001b[0;32m--> 462\u001b[0m     axes \u001b[39m=\u001b[39m fig\u001b[39m.\u001b[39;49msubplots(nrow, ncol, \u001b[39m*\u001b[39;49m\u001b[39m*\u001b[39;49mkwargs)\n\u001b[1;32m    464\u001b[0m     \u001b[39mif\u001b[39;00m col \u001b[39mis\u001b[39;00m \u001b[39mNone\u001b[39;00m \u001b[39mand\u001b[39;00m row \u001b[39mis\u001b[39;00m \u001b[39mNone\u001b[39;00m:\n\u001b[1;32m    465\u001b[0m         axes_dict \u001b[39m=\u001b[39m {}\n",
      "File \u001b[0;32m/opt/homebrew/Caskroom/miniforge/base/envs/sccoda-env/lib/python3.10/site-packages/matplotlib/figure.py:930\u001b[0m, in \u001b[0;36mFigureBase.subplots\u001b[0;34m(self, nrows, ncols, sharex, sharey, squeeze, width_ratios, height_ratios, subplot_kw, gridspec_kw)\u001b[0m\n\u001b[1;32m    926\u001b[0m         \u001b[39mraise\u001b[39;00m \u001b[39mValueError\u001b[39;00m(\u001b[39m\"\u001b[39m\u001b[39m'\u001b[39m\u001b[39mwidth_ratios\u001b[39m\u001b[39m'\u001b[39m\u001b[39m must not be defined both as \u001b[39m\u001b[39m\"\u001b[39m\n\u001b[1;32m    927\u001b[0m                          \u001b[39m\"\u001b[39m\u001b[39mparameter and as key in \u001b[39m\u001b[39m'\u001b[39m\u001b[39mgridspec_kw\u001b[39m\u001b[39m'\u001b[39m\u001b[39m\"\u001b[39m)\n\u001b[1;32m    928\u001b[0m     gridspec_kw[\u001b[39m'\u001b[39m\u001b[39mwidth_ratios\u001b[39m\u001b[39m'\u001b[39m] \u001b[39m=\u001b[39m width_ratios\n\u001b[0;32m--> 930\u001b[0m gs \u001b[39m=\u001b[39m \u001b[39mself\u001b[39;49m\u001b[39m.\u001b[39;49madd_gridspec(nrows, ncols, figure\u001b[39m=\u001b[39;49m\u001b[39mself\u001b[39;49m, \u001b[39m*\u001b[39;49m\u001b[39m*\u001b[39;49mgridspec_kw)\n\u001b[1;32m    931\u001b[0m axs \u001b[39m=\u001b[39m gs\u001b[39m.\u001b[39msubplots(sharex\u001b[39m=\u001b[39msharex, sharey\u001b[39m=\u001b[39msharey, squeeze\u001b[39m=\u001b[39msqueeze,\n\u001b[1;32m    932\u001b[0m                   subplot_kw\u001b[39m=\u001b[39msubplot_kw)\n\u001b[1;32m    933\u001b[0m \u001b[39mreturn\u001b[39;00m axs\n",
      "File \u001b[0;32m/opt/homebrew/Caskroom/miniforge/base/envs/sccoda-env/lib/python3.10/site-packages/matplotlib/figure.py:1542\u001b[0m, in \u001b[0;36mFigureBase.add_gridspec\u001b[0;34m(self, nrows, ncols, **kwargs)\u001b[0m\n\u001b[1;32m   1503\u001b[0m \u001b[39m\u001b[39m\u001b[39m\"\"\"\u001b[39;00m\n\u001b[1;32m   1504\u001b[0m \u001b[39mReturn a `.GridSpec` that has this figure as a parent.  This allows\u001b[39;00m\n\u001b[1;32m   1505\u001b[0m \u001b[39mcomplex layout of Axes in the figure.\u001b[39;00m\n\u001b[0;32m   (...)\u001b[0m\n\u001b[1;32m   1538\u001b[0m \n\u001b[1;32m   1539\u001b[0m \u001b[39m\"\"\"\u001b[39;00m\n\u001b[1;32m   1541\u001b[0m _ \u001b[39m=\u001b[39m kwargs\u001b[39m.\u001b[39mpop(\u001b[39m'\u001b[39m\u001b[39mfigure\u001b[39m\u001b[39m'\u001b[39m, \u001b[39mNone\u001b[39;00m)  \u001b[39m# pop in case user has added this...\u001b[39;00m\n\u001b[0;32m-> 1542\u001b[0m gs \u001b[39m=\u001b[39m GridSpec(nrows\u001b[39m=\u001b[39;49mnrows, ncols\u001b[39m=\u001b[39;49mncols, figure\u001b[39m=\u001b[39;49m\u001b[39mself\u001b[39;49m, \u001b[39m*\u001b[39;49m\u001b[39m*\u001b[39;49mkwargs)\n\u001b[1;32m   1543\u001b[0m \u001b[39mreturn\u001b[39;00m gs\n",
      "File \u001b[0;32m/opt/homebrew/Caskroom/miniforge/base/envs/sccoda-env/lib/python3.10/site-packages/matplotlib/gridspec.py:378\u001b[0m, in \u001b[0;36mGridSpec.__init__\u001b[0;34m(self, nrows, ncols, figure, left, bottom, right, top, wspace, hspace, width_ratios, height_ratios)\u001b[0m\n\u001b[1;32m    375\u001b[0m \u001b[39mself\u001b[39m\u001b[39m.\u001b[39mhspace \u001b[39m=\u001b[39m hspace\n\u001b[1;32m    376\u001b[0m \u001b[39mself\u001b[39m\u001b[39m.\u001b[39mfigure \u001b[39m=\u001b[39m figure\n\u001b[0;32m--> 378\u001b[0m \u001b[39msuper\u001b[39;49m()\u001b[39m.\u001b[39;49m\u001b[39m__init__\u001b[39;49m(nrows, ncols,\n\u001b[1;32m    379\u001b[0m                  width_ratios\u001b[39m=\u001b[39;49mwidth_ratios,\n\u001b[1;32m    380\u001b[0m                  height_ratios\u001b[39m=\u001b[39;49mheight_ratios)\n",
      "File \u001b[0;32m/opt/homebrew/Caskroom/miniforge/base/envs/sccoda-env/lib/python3.10/site-packages/matplotlib/gridspec.py:51\u001b[0m, in \u001b[0;36mGridSpecBase.__init__\u001b[0;34m(self, nrows, ncols, height_ratios, width_ratios)\u001b[0m\n\u001b[1;32m     48\u001b[0m     \u001b[39mraise\u001b[39;00m \u001b[39mValueError\u001b[39;00m(\n\u001b[1;32m     49\u001b[0m         \u001b[39mf\u001b[39m\u001b[39m\"\u001b[39m\u001b[39mNumber of rows must be a positive integer, not \u001b[39m\u001b[39m{\u001b[39;00mnrows\u001b[39m!r}\u001b[39;00m\u001b[39m\"\u001b[39m)\n\u001b[1;32m     50\u001b[0m \u001b[39mif\u001b[39;00m \u001b[39mnot\u001b[39;00m \u001b[39misinstance\u001b[39m(ncols, Integral) \u001b[39mor\u001b[39;00m ncols \u001b[39m<\u001b[39m\u001b[39m=\u001b[39m \u001b[39m0\u001b[39m:\n\u001b[0;32m---> 51\u001b[0m     \u001b[39mraise\u001b[39;00m \u001b[39mValueError\u001b[39;00m(\n\u001b[1;32m     52\u001b[0m         \u001b[39mf\u001b[39m\u001b[39m\"\u001b[39m\u001b[39mNumber of columns must be a positive integer, not \u001b[39m\u001b[39m{\u001b[39;00mncols\u001b[39m!r}\u001b[39;00m\u001b[39m\"\u001b[39m)\n\u001b[1;32m     53\u001b[0m \u001b[39mself\u001b[39m\u001b[39m.\u001b[39m_nrows, \u001b[39mself\u001b[39m\u001b[39m.\u001b[39m_ncols \u001b[39m=\u001b[39m nrows, ncols\n\u001b[1;32m     54\u001b[0m \u001b[39mself\u001b[39m\u001b[39m.\u001b[39mset_height_ratios(height_ratios)\n",
      "\u001b[0;31mValueError\u001b[0m: Number of columns must be a positive integer, not 0"
     ]
    },
    {
     "data": {
      "text/plain": [
       "<Figure size 0x300 with 0 Axes>"
      ]
     },
     "metadata": {},
     "output_type": "display_data"
    }
   ],
   "source": [
    "pt.pl.coda.effects_barplot(sccoda_data, \"coda\", \"disease\")\n",
    "plt.show()"
   ]
  }
 ],
 "metadata": {
  "kernelspec": {
   "display_name": "Python 3",
   "language": "python",
   "name": "python3"
  },
  "language_info": {
   "codemirror_mode": {
    "name": "ipython",
    "version": 3
   },
   "file_extension": ".py",
   "mimetype": "text/x-python",
   "name": "python",
   "nbconvert_exporter": "python",
   "pygments_lexer": "ipython3",
   "version": "3.10.13"
  }
 },
 "nbformat": 4,
 "nbformat_minor": 2
}
