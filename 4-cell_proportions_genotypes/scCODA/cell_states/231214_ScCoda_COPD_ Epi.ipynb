{
 "cells": [
  {
   "cell_type": "markdown",
   "metadata": {},
   "source": [
    "# Compositional analysis of the COPD-IAV scRNA dataset using scCoda (pertpy):\n",
    "- Developed by: Christian Eger\n",
    "- Würzburg Institute for Systems Immunology - Faculty of Medicine - Julius Maximilian Universität Würzburg\n",
    "- Created on: 231214\n",
    "- Last modified: 231214<br>\n",
    "6 Patients with and 6 without chronic obstructive pulmonary disease (COPD).\n",
    "Epithelial cells extracted with a lung wash and exposed to IAV (Control and IAV n=3 for both COPD and healthy patients)\n",
    "--> scRNA-seq and cell types annotated"
   ]
  },
  {
   "cell_type": "markdown",
   "metadata": {},
   "source": [
    "### Preparation of the mamba environment"
   ]
  },
  {
   "cell_type": "markdown",
   "metadata": {},
   "source": [
    "Created mamba environment in /Users/egerc/miniforge3/envs/pertpy-env  \n",
    "mamba create -n pertpy-env python=3.10  \n",
    "mamba activate pertpy-env<br>  \n",
    "Manual git installation of pertpy necessary due to Apple silicon  \n",
    "git clone https://github.com/theislab/pertpy.git  \n",
    "cd pertpy  \n",
    "pip install .  "
   ]
  },
  {
   "cell_type": "code",
   "execution_count": 1,
   "metadata": {},
   "outputs": [],
   "source": [
    "import warnings\n",
    "\n",
    "import pandas as pd\n",
    "\n",
    "warnings.filterwarnings(\"ignore\")\n",
    "warnings.simplefilter(\"ignore\")\n",
    "\n",
    "import scanpy as sc\n",
    "import numpy as np\n",
    "#import tensorflow as tf\n",
    "\n",
    "import matplotlib.pyplot as plt\n",
    "import matplotlib\n",
    "import seaborn as sns\n",
    "import altair as alt\n",
    "import pertpy as pt\n"
   ]
  },
  {
   "cell_type": "code",
   "execution_count": 2,
   "metadata": {},
   "outputs": [
    {
     "name": "stdout",
     "output_type": "stream",
     "text": [
      "-----\n",
      "anndata     0.10.3\n",
      "scanpy      1.9.6\n",
      "-----\n",
      "PIL                         10.1.0\n",
      "absl                        NA\n",
      "adjustText                  0.8\n",
      "aiohttp                     3.9.1\n",
      "aiosignal                   1.3.1\n",
      "altair                      5.2.0\n",
      "annotated_types             0.6.0\n",
      "anyio                       NA\n",
      "appnope                     0.1.3\n",
      "arrow                       1.3.0\n",
      "arviz                       0.16.1\n",
      "asttokens                   NA\n",
      "async_timeout               4.0.3\n",
      "attr                        23.1.0\n",
      "attrs                       23.1.0\n",
      "backoff                     2.2.1\n",
      "bs4                         4.12.2\n",
      "certifi                     2023.11.17\n",
      "cffi                        1.16.0\n",
      "chardet                     5.2.0\n",
      "charset_normalizer          3.3.2\n",
      "chex                        0.1.7\n",
      "click                       8.1.7\n",
      "colorama                    0.4.6\n",
      "comm                        0.1.4\n",
      "contextlib2                 NA\n",
      "croniter                    NA\n",
      "custom_inherit              2.4.1\n",
      "cycler                      0.12.1\n",
      "cython_runtime              NA\n",
      "dateutil                    2.8.2\n",
      "debugpy                     1.8.0\n",
      "decorator                   5.1.1\n",
      "decoupler                   1.5.0\n",
      "deepdiff                    6.7.1\n",
      "docrep                      0.3.2\n",
      "etils                       1.6.0\n",
      "exceptiongroup              1.2.0\n",
      "executing                   2.0.1\n",
      "fastapi                     0.105.0\n",
      "flax                        0.7.5\n",
      "frozenlist                  1.4.0\n",
      "fsspec                      2023.12.2\n",
      "h5py                        3.10.0\n",
      "idna                        3.6\n",
      "igraph                      0.10.8\n",
      "importlib_resources         NA\n",
      "ipykernel                   6.26.0\n",
      "jax                         0.4.23\n",
      "jaxlib                      0.4.23\n",
      "jaxopt                      NA\n",
      "jedi                        0.19.1\n",
      "jinja2                      3.1.2\n",
      "joblib                      1.3.2\n",
      "jsonschema                  4.20.0\n",
      "jsonschema_specifications   NA\n",
      "kiwisolver                  1.4.5\n",
      "leidenalg                   0.10.1\n",
      "lightning                   2.0.9.post0\n",
      "lightning_cloud             0.5.57\n",
      "lightning_fabric            2.1.2\n",
      "lightning_utilities         0.10.0\n",
      "llvmlite                    0.41.1\n",
      "markupsafe                  2.1.3\n",
      "matplotlib                  3.8.2\n",
      "ml_collections              NA\n",
      "ml_dtypes                   0.3.1\n",
      "mpl_toolkits                NA\n",
      "mpmath                      1.3.0\n",
      "msgpack                     1.0.7\n",
      "mudata                      0.2.3\n",
      "multidict                   6.0.4\n",
      "multipart                   0.0.6\n",
      "multipledispatch            0.6.0\n",
      "natsort                     8.4.0\n",
      "numba                       0.58.1\n",
      "numpy                       1.26.2\n",
      "numpyro                     0.13.2\n",
      "opt_einsum                  v3.3.0\n",
      "optax                       0.1.7\n",
      "ordered_set                 4.1.0\n",
      "ott                         0.4.4\n",
      "packaging                   23.2\n",
      "pandas                      2.1.4\n",
      "parso                       0.8.3\n",
      "patsy                       0.5.4\n",
      "pertpy                      0.7.0\n",
      "pexpect                     4.8.0\n",
      "pickleshare                 0.7.5\n",
      "pkg_resources               NA\n",
      "platformdirs                4.1.0\n",
      "ply                         3.11\n",
      "png                         0.20220715.0\n",
      "prompt_toolkit              3.0.42\n",
      "psutil                      5.9.5\n",
      "ptyprocess                  0.7.0\n",
      "pure_eval                   0.2.2\n",
      "pycparser                   2.21\n",
      "pydantic                    2.1.1\n",
      "pydantic_core               2.4.0\n",
      "pydev_ipython               NA\n",
      "pydevconsole                NA\n",
      "pydevd                      2.9.5\n",
      "pydevd_file_utils           NA\n",
      "pydevd_plugins              NA\n",
      "pydevd_tracing              NA\n",
      "pygments                    2.17.2\n",
      "pyomo                       6.7.0\n",
      "pyparsing                   3.1.1\n",
      "pyro                        1.8.6\n",
      "pytorch_lightning           2.1.2\n",
      "pytz                        2023.3.post1\n",
      "referencing                 NA\n",
      "reportlab                   4.0.8\n",
      "requests                    2.31.0\n",
      "rich                        NA\n",
      "rpds                        NA\n",
      "rpy2                        3.5.11\n",
      "scipy                       1.11.4\n",
      "scvi                        1.0.4\n",
      "seaborn                     0.12.2\n",
      "session_info                1.0.0\n",
      "six                         1.16.0\n",
      "sklearn                     1.3.2\n",
      "skmisc                      0.3.0\n",
      "sniffio                     1.3.0\n",
      "soupsieve                   2.5\n",
      "sparse                      0.14.0\n",
      "sparsecca                   0.3.1\n",
      "stack_data                  0.6.2\n",
      "starlette                   0.27.0\n",
      "statsmodels                 0.14.0\n",
      "sympy                       1.12\n",
      "texttable                   1.7.0\n",
      "threadpoolctl               3.2.0\n",
      "toolz                       0.12.0\n",
      "torch                       2.1.1\n",
      "torchgen                    NA\n",
      "torchmetrics                1.2.1\n",
      "tornado                     6.3.3\n",
      "toyplot                     1.0.3\n",
      "toytree                     2.0.1\n",
      "tqdm                        4.66.1\n",
      "traitlets                   5.14.0\n",
      "tree                        0.1.8\n",
      "typing_extensions           NA\n",
      "tzlocal                     NA\n",
      "urllib3                     2.0.7\n",
      "uvicorn                     0.24.0.post1\n",
      "wcwidth                     0.2.12\n",
      "websocket                   1.7.0\n",
      "websockets                  12.0\n",
      "xarray                      2023.12.0\n",
      "xarray_einstats             0.6.0\n",
      "yaml                        6.0.1\n",
      "yarl                        1.9.4\n",
      "zmq                         25.1.2\n",
      "zoneinfo                    NA\n",
      "-----\n",
      "IPython             8.18.1\n",
      "jupyter_client      8.6.0\n",
      "jupyter_core        5.5.0\n",
      "-----\n",
      "Python 3.10.13 | packaged by conda-forge | (main, Oct 26 2023, 18:09:17) [Clang 16.0.6 ]\n",
      "macOS-14.2-arm64-arm-64bit\n",
      "-----\n",
      "Session information updated at 2023-12-15 12:58\n"
     ]
    }
   ],
   "source": [
    "sc.logging.print_versions()"
   ]
  },
  {
   "cell_type": "markdown",
   "metadata": {},
   "source": [
    "### Preparation of AnnData object\n",
    "\n",
    "1. Creation of adata from h5ad file\n",
    "2. Subsetting the adata dataframe to the cell_compartment of choice"
   ]
  },
  {
   "cell_type": "code",
   "execution_count": 3,
   "metadata": {},
   "outputs": [
    {
     "name": "stdout",
     "output_type": "stream",
     "text": [
      "AnnData object with n_obs × n_vars = 97573 × 27208\n",
      "    obs: 'sex', 'age', 'ethnicity', 'PaCO2', 'donor', 'infection', 'disease', 'SMK', 'illumina_stimunr', 'bd_rhapsody', 'n_genes', 'doublet_scores', 'predicted_doublets', 'batch', 'n_genes_by_counts', 'total_counts', 'total_counts_mt', 'pct_counts_mt', 'total_counts_ribo', 'pct_counts_ribo', 'percent_mt2', 'n_counts', 'percent_chrY', 'XIST-counts', 'S_score', 'G2M_score', 'condition', 'sample_group', 'IAV_score', 'group', 'Viral_score', 'cell_type', 'cell_states', 'leiden', 'cell_compartment', 'seed_labels', '_scvi_batch', '_scvi_labels', 'C_scANVI'\n",
      "    var: 'mt', 'ribo'\n",
      "    obsm: 'X_scANVI', 'X_scVI', 'X_umap'\n"
     ]
    }
   ],
   "source": [
    "adata = sc.read_h5ad(\"Marburg_cell_states_locked_scANVI_ctl230901.raw.h5ad\")\n",
    "print(adata)"
   ]
  },
  {
   "cell_type": "code",
   "execution_count": 4,
   "metadata": {},
   "outputs": [
    {
     "data": {
      "text/plain": [
       "['Ciliated',\n",
       " 'Club',\n",
       " 'Deuterosomal',\n",
       " 'Unknown',\n",
       " 'Goblet',\n",
       " 'Basal',\n",
       " 'Ionocyte',\n",
       " 'Secretory',\n",
       " 'SupraB',\n",
       " 'Epi']"
      ]
     },
     "execution_count": 4,
     "metadata": {},
     "output_type": "execute_result"
    }
   ],
   "source": [
    "adata.obs.cell_compartment.unique().tolist()\n",
    "#prints a list of possible cell_compartments to subset adata to\n"
   ]
  },
  {
   "cell_type": "code",
   "execution_count": 5,
   "metadata": {},
   "outputs": [
    {
     "data": {
      "text/plain": [
       "View of AnnData object with n_obs × n_vars = 1415 × 27208\n",
       "    obs: 'sex', 'age', 'ethnicity', 'PaCO2', 'donor', 'infection', 'disease', 'SMK', 'illumina_stimunr', 'bd_rhapsody', 'n_genes', 'doublet_scores', 'predicted_doublets', 'batch', 'n_genes_by_counts', 'total_counts', 'total_counts_mt', 'pct_counts_mt', 'total_counts_ribo', 'pct_counts_ribo', 'percent_mt2', 'n_counts', 'percent_chrY', 'XIST-counts', 'S_score', 'G2M_score', 'condition', 'sample_group', 'IAV_score', 'group', 'Viral_score', 'cell_type', 'cell_states', 'leiden', 'cell_compartment', 'seed_labels', '_scvi_batch', '_scvi_labels', 'C_scANVI'\n",
       "    var: 'mt', 'ribo'\n",
       "    obsm: 'X_scANVI', 'X_scVI', 'X_umap'"
      ]
     },
     "execution_count": 5,
     "metadata": {},
     "output_type": "execute_result"
    }
   ],
   "source": [
    "\n",
    "adata_cell_compartment = adata[adata.obs['cell_compartment'].isin(['Epi'])]\n",
    "adata_cell_compartment\n"
   ]
  },
  {
   "cell_type": "code",
   "execution_count": 6,
   "metadata": {},
   "outputs": [
    {
     "data": {
      "text/html": [
       "<pre>MuData object with n_obs × n_vars = 1435 × 27209\n",
       "  2 modalities\n",
       "    rna:\t1415 x 27208\n",
       "      obs:\t&#x27;sex&#x27;, &#x27;age&#x27;, &#x27;ethnicity&#x27;, &#x27;PaCO2&#x27;, &#x27;donor&#x27;, &#x27;infection&#x27;, &#x27;disease&#x27;, &#x27;SMK&#x27;, &#x27;illumina_stimunr&#x27;, &#x27;bd_rhapsody&#x27;, &#x27;n_genes&#x27;, &#x27;doublet_scores&#x27;, &#x27;predicted_doublets&#x27;, &#x27;batch&#x27;, &#x27;n_genes_by_counts&#x27;, &#x27;total_counts&#x27;, &#x27;total_counts_mt&#x27;, &#x27;pct_counts_mt&#x27;, &#x27;total_counts_ribo&#x27;, &#x27;pct_counts_ribo&#x27;, &#x27;percent_mt2&#x27;, &#x27;n_counts&#x27;, &#x27;percent_chrY&#x27;, &#x27;XIST-counts&#x27;, &#x27;S_score&#x27;, &#x27;G2M_score&#x27;, &#x27;condition&#x27;, &#x27;sample_group&#x27;, &#x27;IAV_score&#x27;, &#x27;group&#x27;, &#x27;Viral_score&#x27;, &#x27;cell_type&#x27;, &#x27;cell_states&#x27;, &#x27;leiden&#x27;, &#x27;cell_compartment&#x27;, &#x27;seed_labels&#x27;, &#x27;_scvi_batch&#x27;, &#x27;_scvi_labels&#x27;, &#x27;C_scANVI&#x27;, &#x27;scCODA_sample_id&#x27;\n",
       "      var:\t&#x27;mt&#x27;, &#x27;ribo&#x27;\n",
       "      obsm:\t&#x27;X_scANVI&#x27;, &#x27;X_scVI&#x27;, &#x27;X_umap&#x27;\n",
       "    coda:\t20 x 1\n",
       "      obs:\t&#x27;infection&#x27;, &#x27;disease&#x27;, &#x27;group&#x27;, &#x27;batch&#x27;\n",
       "      var:\t&#x27;n_cells&#x27;</pre>"
      ],
      "text/plain": [
       "MuData object with n_obs × n_vars = 1435 × 27209\n",
       "  2 modalities\n",
       "    rna:\t1415 x 27208\n",
       "      obs:\t'sex', 'age', 'ethnicity', 'PaCO2', 'donor', 'infection', 'disease', 'SMK', 'illumina_stimunr', 'bd_rhapsody', 'n_genes', 'doublet_scores', 'predicted_doublets', 'batch', 'n_genes_by_counts', 'total_counts', 'total_counts_mt', 'pct_counts_mt', 'total_counts_ribo', 'pct_counts_ribo', 'percent_mt2', 'n_counts', 'percent_chrY', 'XIST-counts', 'S_score', 'G2M_score', 'condition', 'sample_group', 'IAV_score', 'group', 'Viral_score', 'cell_type', 'cell_states', 'leiden', 'cell_compartment', 'seed_labels', '_scvi_batch', '_scvi_labels', 'C_scANVI', 'scCODA_sample_id'\n",
       "      var:\t'mt', 'ribo'\n",
       "      obsm:\t'X_scANVI', 'X_scVI', 'X_umap'\n",
       "    coda:\t20 x 1\n",
       "      obs:\t'infection', 'disease', 'group', 'batch'\n",
       "      var:\t'n_cells'"
      ]
     },
     "execution_count": 6,
     "metadata": {},
     "output_type": "execute_result"
    }
   ],
   "source": [
    "sccoda_model = pt.tl.Sccoda()\n",
    "sccoda_data = sccoda_model.load(\n",
    "    adata_cell_compartment,\n",
    "    type=\"cell_level\",\n",
    "    generate_sample_level=True,\n",
    "    cell_type_identifier=\"cell_states\",\n",
    "    sample_identifier=\"batch\",\n",
    "    covariate_obs=[\"infection\", \"disease\", \"group\"],\n",
    ")\n",
    "# https://pertpy.readthedocs.io/en/latest/usage/tools/pertpy.tools.Sccoda.html#pertpy.tools.Sccoda.load\n",
    "sccoda_data"
   ]
  },
  {
   "cell_type": "code",
   "execution_count": 7,
   "metadata": {},
   "outputs": [
    {
     "data": {
      "image/png": "[encoded data removed]",
      "text/plain": [
       "<Figure size 1200x600 with 1 Axes>"
      ]
     },
     "metadata": {},
     "output_type": "display_data"
    }
   ],
   "source": [
    "pt.pl.coda.boxplots(\n",
    "    sccoda_data,\n",
    "    modality_key=\"coda\",\n",
    "    feature_name=\"group\",\n",
    "    y_scale=\"count\",\n",
    "    plot_facets=False,\n",
    "    figsize=(12, 6),\n",
    "    dpi=100,\n",
    "    cmap=\"Spectral\",\n",
    "    add_dots=False,\n",
    "    show_legend=\"True\",\n",
    "    level_order=[],\n",
    "    args_swarmplot={\"palette\": [\"blue\"]},\n",
    "    args_boxplot={\"order\": None,\n",
    "                  \"orient\": \"v\",\n",
    "                  \"color\": \"green\",\n",
    "                  \"saturation\": 1,\n",
    "                  \"dodge\": True,\n",
    "                  \"width\": 1,\n",
    "                  \"linewidth\": 1.6}\n",
    ")\n",
    "#Parameters: https://pertpy.readthedocs.io/en/latest/usage/tools/pertpy.tools.Sccoda.html#pertpy.tools.Sccoda.plot_boxplots\n",
    "\n",
    "plt.show()\n"
   ]
  },
  {
   "cell_type": "code",
   "execution_count": 8,
   "metadata": {},
   "outputs": [
    {
     "data": {
      "image/png": "[encoded data removed]",
      "text/plain": [
       "<Figure size 400x200 with 1 Axes>"
      ]
     },
     "metadata": {},
     "output_type": "display_data"
    }
   ],
   "source": [
    "pt.pl.coda.stacked_barplot(\n",
    "    sccoda_data, \n",
    "    modality_key=\"coda\",\n",
    "    feature_name=\"group\", \n",
    "    figsize=(4, 2)\n",
    ")\n",
    "plt.show()"
   ]
  },
  {
   "cell_type": "markdown",
   "metadata": {},
   "source": [
    "### Data modelling using ScCoda"
   ]
  },
  {
   "cell_type": "markdown",
   "metadata": {},
   "source": [
    "Function sccoda.run_nuts() broken at the moment\n",
    "https://github.com/theislab/pertpy/issues/454\n",
    "Downgrading Jax didn't solve the issue for me."
   ]
  },
  {
   "cell_type": "markdown",
   "metadata": {},
   "source": [
    "--> solution: completely new environment, install jax=0.4.20 prior to installing pertpy"
   ]
  },
  {
   "cell_type": "code",
   "execution_count": 9,
   "metadata": {},
   "outputs": [
    {
     "data": {
      "text/html": [
       "<pre style=\"white-space:pre;overflow-x:auto;line-height:normal;font-family:Menlo,'DejaVu Sans Mono',consolas,'Courier New',monospace\"><span style=\"color: #000080; text-decoration-color: #000080; font-weight: bold\">Automatic reference selection! Reference cell type set to iavAPC_Epi</span>\n",
       "</pre>\n"
      ],
      "text/plain": [
       "\u001b[1;34mAutomatic reference selection! Reference cell type set to iavAPC_Epi\u001b[0m\n"
      ]
     },
     "metadata": {},
     "output_type": "display_data"
    },
    {
     "ename": "AssertionError",
     "evalue": "size of plate should be positive",
     "output_type": "error",
     "traceback": [
      "\u001b[0;31m---------------------------------------------------------------------------\u001b[0m",
      "\u001b[0;31mAssertionError\u001b[0m                            Traceback (most recent call last)",
      "\u001b[1;32m/Users/egerc/Documents/COPD/Comp_analysis_test/231214_ScCoda_COPD_ Epi.ipynb Cell 16\u001b[0m line \u001b[0;36m7\n\u001b[1;32m      <a href='vscode-notebook-cell:/Users/egerc/Documents/COPD/Comp_analysis_test/231214_ScCoda_COPD_%20Epi.ipynb#X21sZmlsZQ%3D%3D?line=0'>1</a>\u001b[0m sccoda_data \u001b[39m=\u001b[39m sccoda_model\u001b[39m.\u001b[39mprepare(\n\u001b[1;32m      <a href='vscode-notebook-cell:/Users/egerc/Documents/COPD/Comp_analysis_test/231214_ScCoda_COPD_%20Epi.ipynb#X21sZmlsZQ%3D%3D?line=1'>2</a>\u001b[0m     sccoda_data,\n\u001b[1;32m      <a href='vscode-notebook-cell:/Users/egerc/Documents/COPD/Comp_analysis_test/231214_ScCoda_COPD_%20Epi.ipynb#X21sZmlsZQ%3D%3D?line=2'>3</a>\u001b[0m     modality_key\u001b[39m=\u001b[39m\u001b[39m\"\u001b[39m\u001b[39mcoda\u001b[39m\u001b[39m\"\u001b[39m,\n\u001b[1;32m      <a href='vscode-notebook-cell:/Users/egerc/Documents/COPD/Comp_analysis_test/231214_ScCoda_COPD_%20Epi.ipynb#X21sZmlsZQ%3D%3D?line=3'>4</a>\u001b[0m     formula\u001b[39m=\u001b[39m\u001b[39m\"\u001b[39m\u001b[39mgroup\u001b[39m\u001b[39m\"\u001b[39m,\n\u001b[1;32m      <a href='vscode-notebook-cell:/Users/egerc/Documents/COPD/Comp_analysis_test/231214_ScCoda_COPD_%20Epi.ipynb#X21sZmlsZQ%3D%3D?line=4'>5</a>\u001b[0m     reference_cell_type\u001b[39m=\u001b[39m\u001b[39m\"\u001b[39m\u001b[39mautomatic\u001b[39m\u001b[39m\"\u001b[39m,\n\u001b[1;32m      <a href='vscode-notebook-cell:/Users/egerc/Documents/COPD/Comp_analysis_test/231214_ScCoda_COPD_%20Epi.ipynb#X21sZmlsZQ%3D%3D?line=5'>6</a>\u001b[0m )\n\u001b[0;32m----> <a href='vscode-notebook-cell:/Users/egerc/Documents/COPD/Comp_analysis_test/231214_ScCoda_COPD_%20Epi.ipynb#X21sZmlsZQ%3D%3D?line=6'>7</a>\u001b[0m sccoda_model\u001b[39m.\u001b[39;49mrun_nuts(sccoda_data, modality_key\u001b[39m=\u001b[39;49m\u001b[39m\"\u001b[39;49m\u001b[39mcoda\u001b[39;49m\u001b[39m\"\u001b[39;49m, rng_key\u001b[39m=\u001b[39;49m\u001b[39m1234\u001b[39;49m)\n",
      "File \u001b[0;32m~/miniforge3/envs/pertpy-env/lib/python3.10/site-packages/pertpy/tools/_coda/_sccoda.py:422\u001b[0m, in \u001b[0;36mSccoda.run_nuts\u001b[0;34m(self, data, modality_key, num_samples, num_warmup, rng_key, copy, *args, **kwargs)\u001b[0m\n\u001b[1;32m    401\u001b[0m \u001b[39mdef\u001b[39;00m \u001b[39mrun_nuts\u001b[39m(\n\u001b[1;32m    402\u001b[0m     \u001b[39mself\u001b[39m,\n\u001b[1;32m    403\u001b[0m     data: AnnData \u001b[39m|\u001b[39m MuData,\n\u001b[0;32m   (...)\u001b[0m\n\u001b[1;32m    410\u001b[0m     \u001b[39m*\u001b[39m\u001b[39m*\u001b[39mkwargs,\n\u001b[1;32m    411\u001b[0m ):\n\u001b[1;32m    412\u001b[0m \u001b[39m    \u001b[39m\u001b[39m\"\"\"\u001b[39;00m\n\u001b[1;32m    413\u001b[0m \u001b[39m    Examples:\u001b[39;00m\n\u001b[1;32m    414\u001b[0m \u001b[39m        >>> import pertpy as pt\u001b[39;00m\n\u001b[0;32m   (...)\u001b[0m\n\u001b[1;32m    420\u001b[0m \u001b[39m        >>> sccoda.run_nuts(mdata, num_warmup=100, num_samples=1000, rng_key=42)\u001b[39;00m\n\u001b[1;32m    421\u001b[0m \u001b[39m    \"\"\"\u001b[39;00m\n\u001b[0;32m--> 422\u001b[0m     \u001b[39mreturn\u001b[39;00m \u001b[39msuper\u001b[39;49m()\u001b[39m.\u001b[39;49mrun_nuts(data, modality_key, num_samples, num_warmup, rng_key, copy, \u001b[39m*\u001b[39;49margs, \u001b[39m*\u001b[39;49m\u001b[39m*\u001b[39;49mkwargs)\n",
      "File \u001b[0;32m~/miniforge3/envs/pertpy-env/lib/python3.10/site-packages/pertpy/tools/_coda/_base_coda.py:312\u001b[0m, in \u001b[0;36mCompositionalModel2.run_nuts\u001b[0;34m(self, data, modality_key, num_samples, num_warmup, rng_key, copy, *args, **kwargs)\u001b[0m\n\u001b[1;32m    309\u001b[0m sample_adata\u001b[39m.\u001b[39muns[\u001b[39m\"\u001b[39m\u001b[39mscCODA_params\u001b[39m\u001b[39m\"\u001b[39m][\u001b[39m\"\u001b[39m\u001b[39mmcmc\u001b[39m\u001b[39m\"\u001b[39m][\u001b[39m\"\u001b[39m\u001b[39mnum_warmup\u001b[39m\u001b[39m\"\u001b[39m] \u001b[39m=\u001b[39m num_warmup\n\u001b[1;32m    310\u001b[0m sample_adata\u001b[39m.\u001b[39muns[\u001b[39m\"\u001b[39m\u001b[39mscCODA_params\u001b[39m\u001b[39m\"\u001b[39m][\u001b[39m\"\u001b[39m\u001b[39mmcmc\u001b[39m\u001b[39m\"\u001b[39m][\u001b[39m\"\u001b[39m\u001b[39malgorithm\u001b[39m\u001b[39m\"\u001b[39m] \u001b[39m=\u001b[39m \u001b[39m\"\u001b[39m\u001b[39mNUTS\u001b[39m\u001b[39m\"\u001b[39m\n\u001b[0;32m--> 312\u001b[0m \u001b[39mreturn\u001b[39;00m \u001b[39mself\u001b[39;49m\u001b[39m.\u001b[39;49m__run_mcmc(\n\u001b[1;32m    313\u001b[0m     sample_adata, nuts_kernel, num_samples\u001b[39m=\u001b[39;49mnum_samples, num_warmup\u001b[39m=\u001b[39;49mnum_warmup, rng_key\u001b[39m=\u001b[39;49mrng_key_array, copy\u001b[39m=\u001b[39;49mcopy\n\u001b[1;32m    314\u001b[0m )\n",
      "File \u001b[0;32m~/miniforge3/envs/pertpy-env/lib/python3.10/site-packages/pertpy/tools/_coda/_base_coda.py:217\u001b[0m, in \u001b[0;36mCompositionalModel2.__run_mcmc\u001b[0;34m(self, sample_adata, kernel, rng_key, copy, *args, **kwargs)\u001b[0m\n\u001b[1;32m    215\u001b[0m \u001b[39m# Create mcmc attribute and run inference\u001b[39;00m\n\u001b[1;32m    216\u001b[0m \u001b[39mself\u001b[39m\u001b[39m.\u001b[39mmcmc \u001b[39m=\u001b[39m MCMC(kernel, \u001b[39m*\u001b[39margs, \u001b[39m*\u001b[39m\u001b[39m*\u001b[39mkwargs)\n\u001b[0;32m--> 217\u001b[0m \u001b[39mself\u001b[39;49m\u001b[39m.\u001b[39;49mmcmc\u001b[39m.\u001b[39;49mrun(\n\u001b[1;32m    218\u001b[0m     rng_key,\n\u001b[1;32m    219\u001b[0m     numpyro_counts,\n\u001b[1;32m    220\u001b[0m     numpyro_covariates,\n\u001b[1;32m    221\u001b[0m     numpyro_n_total,\n\u001b[1;32m    222\u001b[0m     jnp\u001b[39m.\u001b[39;49marray(sample_adata\u001b[39m.\u001b[39;49muns[\u001b[39m\"\u001b[39;49m\u001b[39mscCODA_params\u001b[39;49m\u001b[39m\"\u001b[39;49m][\u001b[39m\"\u001b[39;49m\u001b[39mreference_index\u001b[39;49m\u001b[39m\"\u001b[39;49m]),\n\u001b[1;32m    223\u001b[0m     sample_adata,\n\u001b[1;32m    224\u001b[0m     extra_fields\u001b[39m=\u001b[39;49mextra_fields,\n\u001b[1;32m    225\u001b[0m )\n\u001b[1;32m    227\u001b[0m acc_rate \u001b[39m=\u001b[39m np\u001b[39m.\u001b[39marray(\u001b[39mself\u001b[39m\u001b[39m.\u001b[39mmcmc\u001b[39m.\u001b[39mlast_state\u001b[39m.\u001b[39mmean_accept_prob)\n\u001b[1;32m    228\u001b[0m \u001b[39mif\u001b[39;00m acc_rate \u001b[39m<\u001b[39m \u001b[39m0.6\u001b[39m:\n",
      "File \u001b[0;32m~/miniforge3/envs/pertpy-env/lib/python3.10/site-packages/numpyro/infer/mcmc.py:634\u001b[0m, in \u001b[0;36mMCMC.run\u001b[0;34m(self, rng_key, extra_fields, init_params, *args, **kwargs)\u001b[0m\n\u001b[1;32m    632\u001b[0m map_args \u001b[39m=\u001b[39m (rng_key, init_state, init_params)\n\u001b[1;32m    633\u001b[0m \u001b[39mif\u001b[39;00m \u001b[39mself\u001b[39m\u001b[39m.\u001b[39mnum_chains \u001b[39m==\u001b[39m \u001b[39m1\u001b[39m:\n\u001b[0;32m--> 634\u001b[0m     states_flat, last_state \u001b[39m=\u001b[39m partial_map_fn(map_args)\n\u001b[1;32m    635\u001b[0m     states \u001b[39m=\u001b[39m tree_map(\u001b[39mlambda\u001b[39;00m x: x[jnp\u001b[39m.\u001b[39mnewaxis, \u001b[39m.\u001b[39m\u001b[39m.\u001b[39m\u001b[39m.\u001b[39m], states_flat)\n\u001b[1;32m    636\u001b[0m \u001b[39melse\u001b[39;00m:\n",
      "File \u001b[0;32m~/miniforge3/envs/pertpy-env/lib/python3.10/site-packages/numpyro/infer/mcmc.py:416\u001b[0m, in \u001b[0;36mMCMC._single_chain_mcmc\u001b[0;34m(self, init, args, kwargs, collect_fields)\u001b[0m\n\u001b[1;32m    414\u001b[0m \u001b[39m# Check if _sample_fn is None, then we need to initialize the sampler.\u001b[39;00m\n\u001b[1;32m    415\u001b[0m \u001b[39mif\u001b[39;00m init_state \u001b[39mis\u001b[39;00m \u001b[39mNone\u001b[39;00m \u001b[39mor\u001b[39;00m (\u001b[39mgetattr\u001b[39m(\u001b[39mself\u001b[39m\u001b[39m.\u001b[39msampler, \u001b[39m\"\u001b[39m\u001b[39m_sample_fn\u001b[39m\u001b[39m\"\u001b[39m, \u001b[39mNone\u001b[39;00m) \u001b[39mis\u001b[39;00m \u001b[39mNone\u001b[39;00m):\n\u001b[0;32m--> 416\u001b[0m     new_init_state \u001b[39m=\u001b[39m \u001b[39mself\u001b[39;49m\u001b[39m.\u001b[39;49msampler\u001b[39m.\u001b[39;49minit(\n\u001b[1;32m    417\u001b[0m         rng_key,\n\u001b[1;32m    418\u001b[0m         \u001b[39mself\u001b[39;49m\u001b[39m.\u001b[39;49mnum_warmup,\n\u001b[1;32m    419\u001b[0m         init_params,\n\u001b[1;32m    420\u001b[0m         model_args\u001b[39m=\u001b[39;49margs,\n\u001b[1;32m    421\u001b[0m         model_kwargs\u001b[39m=\u001b[39;49mkwargs,\n\u001b[1;32m    422\u001b[0m     )\n\u001b[1;32m    423\u001b[0m     init_state \u001b[39m=\u001b[39m new_init_state \u001b[39mif\u001b[39;00m init_state \u001b[39mis\u001b[39;00m \u001b[39mNone\u001b[39;00m \u001b[39melse\u001b[39;00m init_state\n\u001b[1;32m    424\u001b[0m sample_fn, postprocess_fn \u001b[39m=\u001b[39m \u001b[39mself\u001b[39m\u001b[39m.\u001b[39m_get_cached_fns()\n",
      "File \u001b[0;32m~/miniforge3/envs/pertpy-env/lib/python3.10/site-packages/numpyro/infer/hmc.py:713\u001b[0m, in \u001b[0;36mHMC.init\u001b[0;34m(self, rng_key, num_warmup, init_params, model_args, model_kwargs)\u001b[0m\n\u001b[1;32m    708\u001b[0m \u001b[39m# vectorized\u001b[39;00m\n\u001b[1;32m    709\u001b[0m \u001b[39melse\u001b[39;00m:\n\u001b[1;32m    710\u001b[0m     rng_key, rng_key_init_model \u001b[39m=\u001b[39m jnp\u001b[39m.\u001b[39mswapaxes(\n\u001b[1;32m    711\u001b[0m         vmap(random\u001b[39m.\u001b[39msplit)(rng_key), \u001b[39m0\u001b[39m, \u001b[39m1\u001b[39m\n\u001b[1;32m    712\u001b[0m     )\n\u001b[0;32m--> 713\u001b[0m init_params \u001b[39m=\u001b[39m \u001b[39mself\u001b[39;49m\u001b[39m.\u001b[39;49m_init_state(\n\u001b[1;32m    714\u001b[0m     rng_key_init_model, model_args, model_kwargs, init_params\n\u001b[1;32m    715\u001b[0m )\n\u001b[1;32m    716\u001b[0m \u001b[39mif\u001b[39;00m \u001b[39mself\u001b[39m\u001b[39m.\u001b[39m_potential_fn \u001b[39mand\u001b[39;00m init_params \u001b[39mis\u001b[39;00m \u001b[39mNone\u001b[39;00m:\n\u001b[1;32m    717\u001b[0m     \u001b[39mraise\u001b[39;00m \u001b[39mValueError\u001b[39;00m(\n\u001b[1;32m    718\u001b[0m         \u001b[39m\"\u001b[39m\u001b[39mValid value of `init_params` must be provided with\u001b[39m\u001b[39m\"\u001b[39m \u001b[39m\"\u001b[39m\u001b[39m `potential_fn`.\u001b[39m\u001b[39m\"\u001b[39m\n\u001b[1;32m    719\u001b[0m     )\n",
      "File \u001b[0;32m~/miniforge3/envs/pertpy-env/lib/python3.10/site-packages/numpyro/infer/hmc.py:657\u001b[0m, in \u001b[0;36mHMC._init_state\u001b[0;34m(self, rng_key, model_args, model_kwargs, init_params)\u001b[0m\n\u001b[1;32m    650\u001b[0m \u001b[39mdef\u001b[39;00m \u001b[39m_init_state\u001b[39m(\u001b[39mself\u001b[39m, rng_key, model_args, model_kwargs, init_params):\n\u001b[1;32m    651\u001b[0m     \u001b[39mif\u001b[39;00m \u001b[39mself\u001b[39m\u001b[39m.\u001b[39m_model \u001b[39mis\u001b[39;00m \u001b[39mnot\u001b[39;00m \u001b[39mNone\u001b[39;00m:\n\u001b[1;32m    652\u001b[0m         (\n\u001b[1;32m    653\u001b[0m             new_init_params,\n\u001b[1;32m    654\u001b[0m             potential_fn,\n\u001b[1;32m    655\u001b[0m             postprocess_fn,\n\u001b[1;32m    656\u001b[0m             model_trace,\n\u001b[0;32m--> 657\u001b[0m         ) \u001b[39m=\u001b[39m initialize_model(\n\u001b[1;32m    658\u001b[0m             rng_key,\n\u001b[1;32m    659\u001b[0m             \u001b[39mself\u001b[39;49m\u001b[39m.\u001b[39;49m_model,\n\u001b[1;32m    660\u001b[0m             dynamic_args\u001b[39m=\u001b[39;49m\u001b[39mTrue\u001b[39;49;00m,\n\u001b[1;32m    661\u001b[0m             init_strategy\u001b[39m=\u001b[39;49m\u001b[39mself\u001b[39;49m\u001b[39m.\u001b[39;49m_init_strategy,\n\u001b[1;32m    662\u001b[0m             model_args\u001b[39m=\u001b[39;49mmodel_args,\n\u001b[1;32m    663\u001b[0m             model_kwargs\u001b[39m=\u001b[39;49mmodel_kwargs,\n\u001b[1;32m    664\u001b[0m             forward_mode_differentiation\u001b[39m=\u001b[39;49m\u001b[39mself\u001b[39;49m\u001b[39m.\u001b[39;49m_forward_mode_differentiation,\n\u001b[1;32m    665\u001b[0m         )\n\u001b[1;32m    666\u001b[0m         \u001b[39mif\u001b[39;00m init_params \u001b[39mis\u001b[39;00m \u001b[39mNone\u001b[39;00m:\n\u001b[1;32m    667\u001b[0m             init_params \u001b[39m=\u001b[39m new_init_params\n",
      "File \u001b[0;32m~/miniforge3/envs/pertpy-env/lib/python3.10/site-packages/numpyro/infer/util.py:656\u001b[0m, in \u001b[0;36minitialize_model\u001b[0;34m(rng_key, model, init_strategy, dynamic_args, model_args, model_kwargs, forward_mode_differentiation, validate_grad)\u001b[0m\n\u001b[1;32m    646\u001b[0m model_kwargs \u001b[39m=\u001b[39m {} \u001b[39mif\u001b[39;00m model_kwargs \u001b[39mis\u001b[39;00m \u001b[39mNone\u001b[39;00m \u001b[39melse\u001b[39;00m model_kwargs\n\u001b[1;32m    647\u001b[0m substituted_model \u001b[39m=\u001b[39m substitute(\n\u001b[1;32m    648\u001b[0m     seed(model, rng_key \u001b[39mif\u001b[39;00m is_prng_key(rng_key) \u001b[39melse\u001b[39;00m rng_key[\u001b[39m0\u001b[39m]),\n\u001b[1;32m    649\u001b[0m     substitute_fn\u001b[39m=\u001b[39minit_strategy,\n\u001b[1;32m    650\u001b[0m )\n\u001b[1;32m    651\u001b[0m (\n\u001b[1;32m    652\u001b[0m     inv_transforms,\n\u001b[1;32m    653\u001b[0m     replay_model,\n\u001b[1;32m    654\u001b[0m     has_enumerate_support,\n\u001b[1;32m    655\u001b[0m     model_trace,\n\u001b[0;32m--> 656\u001b[0m ) \u001b[39m=\u001b[39m _get_model_transforms(substituted_model, model_args, model_kwargs)\n\u001b[1;32m    657\u001b[0m \u001b[39m# substitute param sites from model_trace to model so\u001b[39;00m\n\u001b[1;32m    658\u001b[0m \u001b[39m# we don't need to generate again parameters of `numpyro.module`\u001b[39;00m\n\u001b[1;32m    659\u001b[0m model \u001b[39m=\u001b[39m substitute(\n\u001b[1;32m    660\u001b[0m     model,\n\u001b[1;32m    661\u001b[0m     data\u001b[39m=\u001b[39m{\n\u001b[0;32m   (...)\u001b[0m\n\u001b[1;32m    665\u001b[0m     },\n\u001b[1;32m    666\u001b[0m )\n",
      "File \u001b[0;32m~/miniforge3/envs/pertpy-env/lib/python3.10/site-packages/numpyro/infer/util.py:450\u001b[0m, in \u001b[0;36m_get_model_transforms\u001b[0;34m(model, model_args, model_kwargs)\u001b[0m\n\u001b[1;32m    448\u001b[0m \u001b[39mdef\u001b[39;00m \u001b[39m_get_model_transforms\u001b[39m(model, model_args\u001b[39m=\u001b[39m(), model_kwargs\u001b[39m=\u001b[39m\u001b[39mNone\u001b[39;00m):\n\u001b[1;32m    449\u001b[0m     model_kwargs \u001b[39m=\u001b[39m {} \u001b[39mif\u001b[39;00m model_kwargs \u001b[39mis\u001b[39;00m \u001b[39mNone\u001b[39;00m \u001b[39melse\u001b[39;00m model_kwargs\n\u001b[0;32m--> 450\u001b[0m     model_trace \u001b[39m=\u001b[39m trace(model)\u001b[39m.\u001b[39;49mget_trace(\u001b[39m*\u001b[39;49mmodel_args, \u001b[39m*\u001b[39;49m\u001b[39m*\u001b[39;49mmodel_kwargs)\n\u001b[1;32m    451\u001b[0m     inv_transforms \u001b[39m=\u001b[39m {}\n\u001b[1;32m    452\u001b[0m     \u001b[39m# model code may need to be replayed in the presence of deterministic sites\u001b[39;00m\n",
      "File \u001b[0;32m~/miniforge3/envs/pertpy-env/lib/python3.10/site-packages/numpyro/handlers.py:171\u001b[0m, in \u001b[0;36mtrace.get_trace\u001b[0;34m(self, *args, **kwargs)\u001b[0m\n\u001b[1;32m    163\u001b[0m \u001b[39mdef\u001b[39;00m \u001b[39mget_trace\u001b[39m(\u001b[39mself\u001b[39m, \u001b[39m*\u001b[39margs, \u001b[39m*\u001b[39m\u001b[39m*\u001b[39mkwargs):\n\u001b[1;32m    164\u001b[0m \u001b[39m    \u001b[39m\u001b[39m\"\"\"\u001b[39;00m\n\u001b[1;32m    165\u001b[0m \u001b[39m    Run the wrapped callable and return the recorded trace.\u001b[39;00m\n\u001b[1;32m    166\u001b[0m \n\u001b[0;32m   (...)\u001b[0m\n\u001b[1;32m    169\u001b[0m \u001b[39m    :return: `OrderedDict` containing the execution trace.\u001b[39;00m\n\u001b[1;32m    170\u001b[0m \u001b[39m    \"\"\"\u001b[39;00m\n\u001b[0;32m--> 171\u001b[0m     \u001b[39mself\u001b[39;49m(\u001b[39m*\u001b[39;49margs, \u001b[39m*\u001b[39;49m\u001b[39m*\u001b[39;49mkwargs)\n\u001b[1;32m    172\u001b[0m     \u001b[39mreturn\u001b[39;00m \u001b[39mself\u001b[39m\u001b[39m.\u001b[39mtrace\n",
      "File \u001b[0;32m~/miniforge3/envs/pertpy-env/lib/python3.10/site-packages/numpyro/primitives.py:105\u001b[0m, in \u001b[0;36mMessenger.__call__\u001b[0;34m(self, *args, **kwargs)\u001b[0m\n\u001b[1;32m    103\u001b[0m     \u001b[39mreturn\u001b[39;00m \u001b[39mself\u001b[39m\n\u001b[1;32m    104\u001b[0m \u001b[39mwith\u001b[39;00m \u001b[39mself\u001b[39m:\n\u001b[0;32m--> 105\u001b[0m     \u001b[39mreturn\u001b[39;00m \u001b[39mself\u001b[39;49m\u001b[39m.\u001b[39;49mfn(\u001b[39m*\u001b[39;49margs, \u001b[39m*\u001b[39;49m\u001b[39m*\u001b[39;49mkwargs)\n",
      "File \u001b[0;32m~/miniforge3/envs/pertpy-env/lib/python3.10/site-packages/numpyro/primitives.py:105\u001b[0m, in \u001b[0;36mMessenger.__call__\u001b[0;34m(self, *args, **kwargs)\u001b[0m\n\u001b[1;32m    103\u001b[0m     \u001b[39mreturn\u001b[39;00m \u001b[39mself\u001b[39m\n\u001b[1;32m    104\u001b[0m \u001b[39mwith\u001b[39;00m \u001b[39mself\u001b[39m:\n\u001b[0;32m--> 105\u001b[0m     \u001b[39mreturn\u001b[39;00m \u001b[39mself\u001b[39;49m\u001b[39m.\u001b[39;49mfn(\u001b[39m*\u001b[39;49margs, \u001b[39m*\u001b[39;49m\u001b[39m*\u001b[39;49mkwargs)\n",
      "File \u001b[0;32m~/miniforge3/envs/pertpy-env/lib/python3.10/site-packages/numpyro/primitives.py:105\u001b[0m, in \u001b[0;36mMessenger.__call__\u001b[0;34m(self, *args, **kwargs)\u001b[0m\n\u001b[1;32m    103\u001b[0m     \u001b[39mreturn\u001b[39;00m \u001b[39mself\u001b[39m\n\u001b[1;32m    104\u001b[0m \u001b[39mwith\u001b[39;00m \u001b[39mself\u001b[39m:\n\u001b[0;32m--> 105\u001b[0m     \u001b[39mreturn\u001b[39;00m \u001b[39mself\u001b[39;49m\u001b[39m.\u001b[39;49mfn(\u001b[39m*\u001b[39;49margs, \u001b[39m*\u001b[39;49m\u001b[39m*\u001b[39;49mkwargs)\n",
      "File \u001b[0;32m~/miniforge3/envs/pertpy-env/lib/python3.10/site-packages/pertpy/tools/_coda/_sccoda.py:250\u001b[0m, in \u001b[0;36mSccoda.model\u001b[0;34m(self, counts, covariates, n_total, ref_index, sample_adata)\u001b[0m\n\u001b[1;32m    248\u001b[0m covariate_axis \u001b[39m=\u001b[39m npy\u001b[39m.\u001b[39mplate(\u001b[39m\"\u001b[39m\u001b[39mcovs\u001b[39m\u001b[39m\"\u001b[39m, D, dim\u001b[39m=\u001b[39m\u001b[39m-\u001b[39m\u001b[39m2\u001b[39m)\n\u001b[1;32m    249\u001b[0m cell_type_axis \u001b[39m=\u001b[39m npy\u001b[39m.\u001b[39mplate(\u001b[39m\"\u001b[39m\u001b[39mct\u001b[39m\u001b[39m\"\u001b[39m, P, dim\u001b[39m=\u001b[39m\u001b[39m-\u001b[39m\u001b[39m1\u001b[39m)\n\u001b[0;32m--> 250\u001b[0m cell_type_axis_nobl \u001b[39m=\u001b[39m npy\u001b[39m.\u001b[39;49mplate(\u001b[39m\"\u001b[39;49m\u001b[39mctnb\u001b[39;49m\u001b[39m\"\u001b[39;49m, P \u001b[39m-\u001b[39;49m \u001b[39m1\u001b[39;49m, dim\u001b[39m=\u001b[39;49m\u001b[39m-\u001b[39;49m\u001b[39m1\u001b[39;49m)\n\u001b[1;32m    251\u001b[0m sample_axis \u001b[39m=\u001b[39m npy\u001b[39m.\u001b[39mplate(\u001b[39m\"\u001b[39m\u001b[39msample\u001b[39m\u001b[39m\"\u001b[39m, N, dim\u001b[39m=\u001b[39m\u001b[39m-\u001b[39m\u001b[39m2\u001b[39m)\n\u001b[1;32m    253\u001b[0m \u001b[39m# Effect priors\u001b[39;00m\n",
      "File \u001b[0;32m~/miniforge3/envs/pertpy-env/lib/python3.10/site-packages/numpyro/primitives.py:462\u001b[0m, in \u001b[0;36mplate.__init__\u001b[0;34m(self, name, size, subsample_size, dim)\u001b[0m\n\u001b[1;32m    460\u001b[0m \u001b[39mdef\u001b[39;00m \u001b[39m__init__\u001b[39m(\u001b[39mself\u001b[39m, name, size, subsample_size\u001b[39m=\u001b[39m\u001b[39mNone\u001b[39;00m, dim\u001b[39m=\u001b[39m\u001b[39mNone\u001b[39;00m):\n\u001b[1;32m    461\u001b[0m     \u001b[39mself\u001b[39m\u001b[39m.\u001b[39mname \u001b[39m=\u001b[39m name\n\u001b[0;32m--> 462\u001b[0m     \u001b[39massert\u001b[39;00m size \u001b[39m>\u001b[39m \u001b[39m0\u001b[39m, \u001b[39m\"\u001b[39m\u001b[39msize of plate should be positive\u001b[39m\u001b[39m\"\u001b[39m\n\u001b[1;32m    463\u001b[0m     \u001b[39mself\u001b[39m\u001b[39m.\u001b[39msize \u001b[39m=\u001b[39m size\n\u001b[1;32m    464\u001b[0m     \u001b[39mif\u001b[39;00m dim \u001b[39mis\u001b[39;00m \u001b[39mnot\u001b[39;00m \u001b[39mNone\u001b[39;00m \u001b[39mand\u001b[39;00m dim \u001b[39m>\u001b[39m\u001b[39m=\u001b[39m \u001b[39m0\u001b[39m:\n",
      "\u001b[0;31mAssertionError\u001b[0m: size of plate should be positive"
     ]
    }
   ],
   "source": [
    "sccoda_data = sccoda_model.prepare(\n",
    "    sccoda_data,\n",
    "    modality_key=\"coda\",\n",
    "    formula=\"group\",\n",
    "    reference_cell_type=\"automatic\",\n",
    ")\n",
    "sccoda_model.run_nuts(sccoda_data, modality_key=\"coda\", rng_key=1234)"
   ]
  },
  {
   "cell_type": "code",
   "execution_count": null,
   "metadata": {},
   "outputs": [
    {
     "data": {
      "text/html": [
       "<div>\n",
       "<style scoped>\n",
       "    .dataframe tbody tr th:only-of-type {\n",
       "        vertical-align: middle;\n",
       "    }\n",
       "\n",
       "    .dataframe tbody tr th {\n",
       "        vertical-align: top;\n",
       "    }\n",
       "\n",
       "    .dataframe thead th {\n",
       "        text-align: right;\n",
       "    }\n",
       "</style>\n",
       "<table border=\"1\" class=\"dataframe\">\n",
       "  <thead>\n",
       "    <tr style=\"text-align: right;\">\n",
       "      <th></th>\n",
       "      <th>Final Parameter</th>\n",
       "      <th>HDI 3%</th>\n",
       "      <th>HDI 97%</th>\n",
       "      <th>SD</th>\n",
       "      <th>Inclusion probability</th>\n",
       "      <th>Expected Sample</th>\n",
       "      <th>log2-fold change</th>\n",
       "    </tr>\n",
       "    <tr>\n",
       "      <th>Cell Type</th>\n",
       "      <th></th>\n",
       "      <th></th>\n",
       "      <th></th>\n",
       "      <th></th>\n",
       "      <th></th>\n",
       "      <th></th>\n",
       "      <th></th>\n",
       "    </tr>\n",
       "  </thead>\n",
       "  <tbody>\n",
       "    <tr>\n",
       "      <th>NOTCH3+SupraB</th>\n",
       "      <td>0.0</td>\n",
       "      <td>0.0</td>\n",
       "      <td>0.0</td>\n",
       "      <td>0.0</td>\n",
       "      <td>0.0</td>\n",
       "      <td>4.220208e+02</td>\n",
       "      <td>0.0</td>\n",
       "    </tr>\n",
       "    <tr>\n",
       "      <th>KRT16+SupraB</th>\n",
       "      <td>0.0</td>\n",
       "      <td>NaN</td>\n",
       "      <td>NaN</td>\n",
       "      <td>0.0</td>\n",
       "      <td>0.0</td>\n",
       "      <td>2.022665e-16</td>\n",
       "      <td>0.0</td>\n",
       "    </tr>\n",
       "  </tbody>\n",
       "</table>\n",
       "</div>"
      ],
      "text/plain": [
       "               Final Parameter  HDI 3%  HDI 97%   SD  Inclusion probability  \\\n",
       "Cell Type                                                                     \n",
       "NOTCH3+SupraB              0.0     0.0      0.0  0.0                    0.0   \n",
       "KRT16+SupraB               0.0     NaN      NaN  0.0                    0.0   \n",
       "\n",
       "               Expected Sample  log2-fold change  \n",
       "Cell Type                                         \n",
       "NOTCH3+SupraB     4.220208e+02               0.0  \n",
       "KRT16+SupraB      2.022665e-16               0.0  "
      ]
     },
     "execution_count": 10,
     "metadata": {},
     "output_type": "execute_result"
    }
   ],
   "source": [
    "sccoda_data[\"coda\"].varm[\"effect_df_group[T.healthy_iav]\"]"
   ]
  },
  {
   "cell_type": "code",
   "execution_count": null,
   "metadata": {},
   "outputs": [
    {
     "data": {
      "text/plain": [
       "AxisArrays with keys: intercept_df, effect_df_group[T.healthy_iav], effect_df_group[T.copd_ctrl], effect_df_group[T.copd_iav]"
      ]
     },
     "execution_count": 11,
     "metadata": {},
     "output_type": "execute_result"
    }
   ],
   "source": [
    "sccoda_data[\"coda\"].varm"
   ]
  },
  {
   "cell_type": "code",
   "execution_count": null,
   "metadata": {},
   "outputs": [
    {
     "data": {
      "text/html": [
       "<pre>MuData object with n_obs × n_vars = 10151 × 27210\n",
       "  2 modalities\n",
       "    rna:\t10127 x 27208\n",
       "      obs:\t&#x27;sex&#x27;, &#x27;age&#x27;, &#x27;ethnicity&#x27;, &#x27;PaCO2&#x27;, &#x27;donor&#x27;, &#x27;infection&#x27;, &#x27;disease&#x27;, &#x27;SMK&#x27;, &#x27;illumina_stimunr&#x27;, &#x27;bd_rhapsody&#x27;, &#x27;n_genes&#x27;, &#x27;doublet_scores&#x27;, &#x27;predicted_doublets&#x27;, &#x27;batch&#x27;, &#x27;n_genes_by_counts&#x27;, &#x27;total_counts&#x27;, &#x27;total_counts_mt&#x27;, &#x27;pct_counts_mt&#x27;, &#x27;total_counts_ribo&#x27;, &#x27;pct_counts_ribo&#x27;, &#x27;percent_mt2&#x27;, &#x27;n_counts&#x27;, &#x27;percent_chrY&#x27;, &#x27;XIST-counts&#x27;, &#x27;S_score&#x27;, &#x27;G2M_score&#x27;, &#x27;condition&#x27;, &#x27;sample_group&#x27;, &#x27;IAV_score&#x27;, &#x27;group&#x27;, &#x27;Viral_score&#x27;, &#x27;cell_type&#x27;, &#x27;cell_states&#x27;, &#x27;leiden&#x27;, &#x27;cell_compartment&#x27;, &#x27;seed_labels&#x27;, &#x27;_scvi_batch&#x27;, &#x27;_scvi_labels&#x27;, &#x27;C_scANVI&#x27;, &#x27;scCODA_sample_id&#x27;\n",
       "      var:\t&#x27;mt&#x27;, &#x27;ribo&#x27;\n",
       "      obsm:\t&#x27;X_scANVI&#x27;, &#x27;X_scVI&#x27;, &#x27;X_umap&#x27;\n",
       "    coda:\t24 x 2\n",
       "      obs:\t&#x27;infection&#x27;, &#x27;disease&#x27;, &#x27;group&#x27;, &#x27;batch&#x27;\n",
       "      var:\t&#x27;n_cells&#x27;\n",
       "      uns:\t&#x27;scCODA_params&#x27;\n",
       "      obsm:\t&#x27;covariate_matrix&#x27;, &#x27;sample_counts&#x27;\n",
       "      varm:\t&#x27;intercept_df&#x27;, &#x27;effect_df_group[T.healthy_iav]&#x27;, &#x27;effect_df_group[T.copd_ctrl]&#x27;, &#x27;effect_df_group[T.copd_iav]&#x27;</pre>"
      ],
      "text/plain": [
       "MuData object with n_obs × n_vars = 10151 × 27210\n",
       "  2 modalities\n",
       "    rna:\t10127 x 27208\n",
       "      obs:\t'sex', 'age', 'ethnicity', 'PaCO2', 'donor', 'infection', 'disease', 'SMK', 'illumina_stimunr', 'bd_rhapsody', 'n_genes', 'doublet_scores', 'predicted_doublets', 'batch', 'n_genes_by_counts', 'total_counts', 'total_counts_mt', 'pct_counts_mt', 'total_counts_ribo', 'pct_counts_ribo', 'percent_mt2', 'n_counts', 'percent_chrY', 'XIST-counts', 'S_score', 'G2M_score', 'condition', 'sample_group', 'IAV_score', 'group', 'Viral_score', 'cell_type', 'cell_states', 'leiden', 'cell_compartment', 'seed_labels', '_scvi_batch', '_scvi_labels', 'C_scANVI', 'scCODA_sample_id'\n",
       "      var:\t'mt', 'ribo'\n",
       "      obsm:\t'X_scANVI', 'X_scVI', 'X_umap'\n",
       "    coda:\t24 x 2\n",
       "      obs:\t'infection', 'disease', 'group', 'batch'\n",
       "      var:\t'n_cells'\n",
       "      uns:\t'scCODA_params'\n",
       "      obsm:\t'covariate_matrix', 'sample_counts'\n",
       "      varm:\t'intercept_df', 'effect_df_group[T.healthy_iav]', 'effect_df_group[T.copd_ctrl]', 'effect_df_group[T.copd_iav]'"
      ]
     },
     "execution_count": 12,
     "metadata": {},
     "output_type": "execute_result"
    }
   ],
   "source": [
    "sccoda_data"
   ]
  },
  {
   "cell_type": "code",
   "execution_count": null,
   "metadata": {},
   "outputs": [],
   "source": [
    "sccoda_model.set_fdr(sccoda_data, 0.2)"
   ]
  },
  {
   "cell_type": "code",
   "execution_count": null,
   "metadata": {},
   "outputs": [
    {
     "data": {
      "text/plain": [
       "Covariate             Cell Type    \n",
       "group[T.healthy_iav]  NOTCH3+SupraB    False\n",
       "                      KRT16+SupraB     False\n",
       "group[T.copd_ctrl]    NOTCH3+SupraB    False\n",
       "                      KRT16+SupraB      True\n",
       "group[T.copd_iav]     NOTCH3+SupraB    False\n",
       "                      KRT16+SupraB      True\n",
       "Name: Final Parameter, dtype: bool"
      ]
     },
     "execution_count": 14,
     "metadata": {},
     "output_type": "execute_result"
    }
   ],
   "source": [
    "sccoda_model.credible_effects(sccoda_data, modality_key=\"coda\")"
   ]
  },
  {
   "cell_type": "markdown",
   "metadata": {},
   "source": [
    "### Plotting of cell_states change of given cell_compartment in groups healthy_iav, copd_ctrl and copd_iav with healthy_ctrl as a reference"
   ]
  },
  {
   "cell_type": "code",
   "execution_count": null,
   "metadata": {},
   "outputs": [
    {
     "data": {
      "image/png": "[encoded data removed]",
      "text/plain": [
       "<Figure size 1200x300 with 2 Axes>"
      ]
     },
     "metadata": {},
     "output_type": "display_data"
    }
   ],
   "source": [
    "pt.pl.coda.effects_barplot(sccoda_data, \"coda\", \"group\")\n",
    "plt.show()"
   ]
  }
 ],
 "metadata": {
  "kernelspec": {
   "display_name": "Python 3",
   "language": "python",
   "name": "python3"
  },
  "language_info": {
   "codemirror_mode": {
    "name": "ipython",
    "version": 3
   },
   "file_extension": ".py",
   "mimetype": "text/x-python",
   "name": "python",
   "nbconvert_exporter": "python",
   "pygments_lexer": "ipython3",
   "version": "3.10.13"
  }
 },
 "nbformat": 4,
 "nbformat_minor": 2
}
