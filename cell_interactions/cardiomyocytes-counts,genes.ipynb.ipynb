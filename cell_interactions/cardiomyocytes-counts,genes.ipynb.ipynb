{
 "cells": [
  {
   "cell_type": "code",
   "execution_count": 24,
   "metadata": {},
   "outputs": [],
   "source": [
    "import pandas as pd\n",
    "import scanpy as sc"
   ]
  },
  {
   "cell_type": "code",
   "execution_count": 25,
   "metadata": {},
   "outputs": [
    {
     "data": {
      "text/plain": [
       "AnnData object with n_obs × n_vars = 8257 × 32285\n",
       "    obs: 'cell_source', 'cell_type', 'donor', 'n_counts', 'n_genes', 'percent_mito', 'percent_ribo', 'region', 'sample', 'scrublet_score', 'cell_states', 'seed_labels', 'genotype', 'batch', 'doublet_scores', 'n_genes_by_counts', 'total_counts', 'total_counts_mt', 'pct_counts_mt', 'total_counts_ribo', 'pct_counts_ribo', 'percent_mt2', 'percent_chrY', 'XIST-counts', 'S_score', 'G2M_score', '_scvi_batch', '_scvi_labels', 'C_scANVI'\n",
       "    var: 'gene_ids', 'feature_types', 'genome', 'mt', 'ribo', 'n_cells_by_counts', 'mean_counts', 'pct_dropout_by_counts', 'total_counts'\n",
       "    obsm: 'X_scANVI', 'X_scVI', 'X_umap'"
      ]
     },
     "execution_count": 25,
     "metadata": {},
     "output_type": "execute_result"
    }
   ],
   "source": [
    "cmc = sc.read_h5ad('../data/heart_mm_nuclei-23-0092_CMC_states_ctl240131.raw.h5ad')\n",
    "cmc"
   ]
  },
  {
   "cell_type": "code",
   "execution_count": 26,
   "metadata": {},
   "outputs": [
    {
     "data": {
      "text/plain": [
       "sample\n",
       "A10_2    2656\n",
       "B1_2     2100\n",
       "A12_2    1294\n",
       "A11_2    1215\n",
       "A9_2      763\n",
       "B2_2      229\n",
       "Name: count, dtype: int64"
      ]
     },
     "execution_count": 26,
     "metadata": {},
     "output_type": "execute_result"
    }
   ],
   "source": [
    "cmc.obs['sample'].value_counts()"
   ]
  },
  {
   "cell_type": "code",
   "execution_count": 27,
   "metadata": {},
   "outputs": [
    {
     "data": {
      "text/plain": [
       "C_scANVI\n",
       "vCM2    2869\n",
       "vCM1    2733\n",
       "vCM4    2548\n",
       "vCM3     107\n",
       "Name: count, dtype: int64"
      ]
     },
     "execution_count": 27,
     "metadata": {},
     "output_type": "execute_result"
    }
   ],
   "source": [
    "cmc.obs['C_scANVI'].value_counts()"
   ]
  },
  {
   "cell_type": "code",
   "execution_count": 28,
   "metadata": {},
   "outputs": [
    {
     "data": {
      "text/plain": [
       "cell_type\n",
       "vCM2    2869\n",
       "vCM1    2733\n",
       "vCM4    2548\n",
       "vCM3     107\n",
       "Name: count, dtype: int64"
      ]
     },
     "execution_count": 28,
     "metadata": {},
     "output_type": "execute_result"
    }
   ],
   "source": [
    "cmc.obs['cell_type'] = cmc.obs['C_scANVI']\n",
    "cmc.obs['cell_type'].value_counts()"
   ]
  },
  {
   "cell_type": "code",
   "execution_count": 29,
   "metadata": {},
   "outputs": [
    {
     "data": {
      "text/html": [
       "<div>\n",
       "<style scoped>\n",
       "    .dataframe tbody tr th:only-of-type {\n",
       "        vertical-align: middle;\n",
       "    }\n",
       "\n",
       "    .dataframe tbody tr th {\n",
       "        vertical-align: top;\n",
       "    }\n",
       "\n",
       "    .dataframe thead th {\n",
       "        text-align: right;\n",
       "    }\n",
       "</style>\n",
       "<table border=\"1\" class=\"dataframe\">\n",
       "  <thead>\n",
       "    <tr style=\"text-align: right;\">\n",
       "      <th>genotype</th>\n",
       "      <th>Mdx</th>\n",
       "      <th>MdxSCID</th>\n",
       "      <th>WT</th>\n",
       "    </tr>\n",
       "    <tr>\n",
       "      <th>cell_type</th>\n",
       "      <th></th>\n",
       "      <th></th>\n",
       "      <th></th>\n",
       "    </tr>\n",
       "  </thead>\n",
       "  <tbody>\n",
       "    <tr>\n",
       "      <th>vCM1</th>\n",
       "      <td>1038</td>\n",
       "      <td>838</td>\n",
       "      <td>857</td>\n",
       "    </tr>\n",
       "    <tr>\n",
       "      <th>vCM2</th>\n",
       "      <td>1435</td>\n",
       "      <td>980</td>\n",
       "      <td>454</td>\n",
       "    </tr>\n",
       "    <tr>\n",
       "      <th>vCM3</th>\n",
       "      <td>7</td>\n",
       "      <td>34</td>\n",
       "      <td>66</td>\n",
       "    </tr>\n",
       "    <tr>\n",
       "      <th>vCM4</th>\n",
       "      <td>29</td>\n",
       "      <td>477</td>\n",
       "      <td>2042</td>\n",
       "    </tr>\n",
       "  </tbody>\n",
       "</table>\n",
       "</div>"
      ],
      "text/plain": [
       "genotype    Mdx  MdxSCID    WT\n",
       "cell_type                     \n",
       "vCM1       1038      838   857\n",
       "vCM2       1435      980   454\n",
       "vCM3          7       34    66\n",
       "vCM4         29      477  2042"
      ]
     },
     "execution_count": 29,
     "metadata": {},
     "output_type": "execute_result"
    }
   ],
   "source": [
    "pd.crosstab(cmc.obs['cell_type'],cmc.obs['genotype'])"
   ]
  },
  {
   "cell_type": "code",
   "execution_count": 30,
   "metadata": {},
   "outputs": [],
   "source": [
    "cardiomyocyte_types = ['vCM1', 'vCM2', 'vCM3', 'vCM4']\n",
    "\n",
    "cardiomyocytes = cmc[cmc.obs['cell_type'].isin(cardiomyocyte_types)]\n",
    "\n",
    "gene_counts = {cell_type: {} for cell_type in cardiomyocyte_types}\n",
    "\n",
    "genotypes = cardiomyocytes.obs['genotype'].unique()"
   ]
  },
  {
   "cell_type": "code",
   "execution_count": 31,
   "metadata": {},
   "outputs": [
    {
     "name": "stdout",
     "output_type": "stream",
     "text": [
      "Unique Gene Counts DataFrame:\n",
      "          vCM1   vCM2   vCM3   vCM4\n",
      "WT       17975  18411  12120  17948\n",
      "Mdx      17183  20129   7597   8644\n",
      "MdxSCID  18426  20335  11741  16327\n"
     ]
    }
   ],
   "source": [
    "for cell_type in cardiomyocyte_types:\n",
    "    for genotype in genotypes:\n",
    "        genotype_cells = cardiomyocytes[(cardiomyocytes.obs['genotype'] == genotype) & \n",
    "                                         (cardiomyocytes.obs['cell_type'] == cell_type)]\n",
    "        \n",
    "        gene_expression = pd.DataFrame(genotype_cells.X.toarray(), columns=genotype_cells.var_names)\n",
    "\n",
    "        unique_genes_count = (gene_expression > 0).any(axis=0).sum()\n",
    "\n",
    "        gene_counts[cell_type][genotype] = unique_genes_count\n",
    "\n",
    "counts_df = pd.DataFrame(gene_counts)\n",
    "\n",
    "print(\"Unique Gene Counts DataFrame:\")\n",
    "print(counts_df)"
   ]
  }
 ],
 "metadata": {
  "kernelspec": {
   "display_name": "scanpy",
   "language": "python",
   "name": "python3"
  },
  "language_info": {
   "codemirror_mode": {
    "name": "ipython",
    "version": 3
   },
   "file_extension": ".py",
   "mimetype": "text/x-python",
   "name": "python",
   "nbconvert_exporter": "python",
   "pygments_lexer": "ipython3",
   "version": "3.12.4"
  }
 },
 "nbformat": 4,
 "nbformat_minor": 2
}
